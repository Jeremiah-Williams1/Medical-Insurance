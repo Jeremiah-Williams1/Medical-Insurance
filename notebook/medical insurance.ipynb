{
 "cells": [
  {
   "cell_type": "code",
   "execution_count": 1,
   "id": "c7ff6ee9",
   "metadata": {},
   "outputs": [],
   "source": [
    "import pandas as pd\n",
    "import numpy as np\n",
    "import seaborn as sns \n",
    "import matplotlib.pyplot as plt\n",
    "#\n",
    "%matplotlib inline "
   ]
  },
  {
   "cell_type": "code",
   "execution_count": 2,
   "id": "2adae1e9",
   "metadata": {},
   "outputs": [],
   "source": [
    "insurance = pd.read_csv('../Dataset/Medical Insurance/insurance.csv')"
   ]
  },
  {
   "cell_type": "code",
   "execution_count": 7,
   "id": "291f8107",
   "metadata": {},
   "outputs": [
    {
     "data": {
      "text/html": [
       "<div>\n",
       "<style scoped>\n",
       "    .dataframe tbody tr th:only-of-type {\n",
       "        vertical-align: middle;\n",
       "    }\n",
       "\n",
       "    .dataframe tbody tr th {\n",
       "        vertical-align: top;\n",
       "    }\n",
       "\n",
       "    .dataframe thead th {\n",
       "        text-align: right;\n",
       "    }\n",
       "</style>\n",
       "<table border=\"1\" class=\"dataframe\">\n",
       "  <thead>\n",
       "    <tr style=\"text-align: right;\">\n",
       "      <th></th>\n",
       "      <th>age</th>\n",
       "      <th>sex</th>\n",
       "      <th>bmi</th>\n",
       "      <th>children</th>\n",
       "      <th>smoker</th>\n",
       "      <th>region</th>\n",
       "      <th>charges</th>\n",
       "    </tr>\n",
       "  </thead>\n",
       "  <tbody>\n",
       "    <tr>\n",
       "      <th>0</th>\n",
       "      <td>19</td>\n",
       "      <td>female</td>\n",
       "      <td>27.900</td>\n",
       "      <td>0</td>\n",
       "      <td>yes</td>\n",
       "      <td>southwest</td>\n",
       "      <td>16884.92400</td>\n",
       "    </tr>\n",
       "    <tr>\n",
       "      <th>1</th>\n",
       "      <td>18</td>\n",
       "      <td>male</td>\n",
       "      <td>33.770</td>\n",
       "      <td>1</td>\n",
       "      <td>no</td>\n",
       "      <td>southeast</td>\n",
       "      <td>1725.55230</td>\n",
       "    </tr>\n",
       "    <tr>\n",
       "      <th>2</th>\n",
       "      <td>28</td>\n",
       "      <td>male</td>\n",
       "      <td>33.000</td>\n",
       "      <td>3</td>\n",
       "      <td>no</td>\n",
       "      <td>southeast</td>\n",
       "      <td>4449.46200</td>\n",
       "    </tr>\n",
       "    <tr>\n",
       "      <th>3</th>\n",
       "      <td>33</td>\n",
       "      <td>male</td>\n",
       "      <td>22.705</td>\n",
       "      <td>0</td>\n",
       "      <td>no</td>\n",
       "      <td>northwest</td>\n",
       "      <td>21984.47061</td>\n",
       "    </tr>\n",
       "    <tr>\n",
       "      <th>4</th>\n",
       "      <td>32</td>\n",
       "      <td>male</td>\n",
       "      <td>28.880</td>\n",
       "      <td>0</td>\n",
       "      <td>no</td>\n",
       "      <td>northwest</td>\n",
       "      <td>3866.85520</td>\n",
       "    </tr>\n",
       "  </tbody>\n",
       "</table>\n",
       "</div>"
      ],
      "text/plain": [
       "   age     sex     bmi  children smoker     region      charges\n",
       "0   19  female  27.900         0    yes  southwest  16884.92400\n",
       "1   18    male  33.770         1     no  southeast   1725.55230\n",
       "2   28    male  33.000         3     no  southeast   4449.46200\n",
       "3   33    male  22.705         0     no  northwest  21984.47061\n",
       "4   32    male  28.880         0     no  northwest   3866.85520"
      ]
     },
     "execution_count": 7,
     "metadata": {},
     "output_type": "execute_result"
    }
   ],
   "source": [
    "insurance.head()"
   ]
  },
  {
   "cell_type": "code",
   "execution_count": null,
   "id": "81bf7516",
   "metadata": {},
   "outputs": [],
   "source": [
    "insurance.info()"
   ]
  },
  {
   "cell_type": "markdown",
   "id": "3ebeb1da",
   "metadata": {},
   "source": [
    "### Exploratory Data Analysis"
   ]
  },
  {
   "cell_type": "markdown",
   "id": "458d8ae0",
   "metadata": {},
   "source": [
    "**Relationship between features**"
   ]
  },
  {
   "cell_type": "code",
   "execution_count": 175,
   "id": "8c47c8b6",
   "metadata": {},
   "outputs": [
    {
     "data": {
      "text/plain": [
       "<Axes: xlabel='bmi_category', ylabel='charges'>"
      ]
     },
     "execution_count": 175,
     "metadata": {},
     "output_type": "execute_result"
    },
    {
     "data": {
      "image/png": "[encoded data removed]",
      "text/plain": [
       "<Figure size 640x480 with 1 Axes>"
      ]
     },
     "metadata": {},
     "output_type": "display_data"
    }
   ],
   "source": [
    "sns.boxplot(data=insurance, x='bmi_category', y='charges')"
   ]
  },
  {
   "cell_type": "code",
   "execution_count": null,
   "id": "3b9e4dcb",
   "metadata": {},
   "outputs": [],
   "source": [
    "# since children is a range from (0-5) would we treat is a categorical column and buketrize it \n",
    "# are people of older age an have more children have higher charge (check using groupby)\n",
    "# also use groupbys to chekc relationship between bmi, age and charges \n",
    "\n",
    "# bin the bmi into classes like overweigh and check the..\n",
    "# relationship between bmi_classes, sex and charges\n",
    "# \n",
    "# relationship between children and other features \n",
    "# \n",
    "# bin the bmi into underweight, normal e.t.c using threshold and feature like age "
   ]
  },
  {
   "cell_type": "code",
   "execution_count": 22,
   "id": "e0b6f1b8",
   "metadata": {},
   "outputs": [
    {
     "data": {
      "text/plain": [
       "<Axes: xlabel='age_group', ylabel='charges'>"
      ]
     },
     "execution_count": 22,
     "metadata": {},
     "output_type": "execute_result"
    },
    {
     "data": {
      "image/png": "[encoded data removed]",
      "text/plain": [
       "<Figure size 640x480 with 1 Axes>"
      ]
     },
     "metadata": {},
     "output_type": "display_data"
    }
   ],
   "source": [
    "# insurance.head()\n",
    "child = insurance.groupby(['children','age_group'])['charges'].mean().reset_index()\n",
    "sns.barplot(data=child, x='age_group', y='charges', hue='children')"
   ]
  },
  {
   "cell_type": "code",
   "execution_count": null,
   "id": "e842b244",
   "metadata": {},
   "outputs": [],
   "source": []
  },
  {
   "cell_type": "code",
   "execution_count": null,
   "id": "e415adad",
   "metadata": {},
   "outputs": [
    {
     "data": {
      "text/plain": [
       "<Axes: xlabel='children', ylabel='charges'>"
      ]
     },
     "execution_count": 124,
     "metadata": {},
     "output_type": "execute_result"
    },
    {
     "data": {
      "image/png": "[encoded data removed]",
      "text/plain": [
       "<Figure size 640x480 with 1 Axes>"
      ]
     },
     "metadata": {},
     "output_type": "display_data"
    }
   ],
   "source": [
    "sns.boxplot(data=insurance, x='children', y='charges', hue='smoker')"
   ]
  },
  {
   "cell_type": "code",
   "execution_count": 3,
   "id": "dc667f66",
   "metadata": {},
   "outputs": [
    {
     "name": "stdout",
     "output_type": "stream",
     "text": [
      "bmi_category\n",
      "Obese          716\n",
      "Overweight     380\n",
      "Normal         221\n",
      "Underweight     21\n",
      "Name: count, dtype: int64\n"
     ]
    }
   ],
   "source": [
    "bins = [0, 18.5, 24.9, 29.9, float('inf')]\n",
    "labels = ['Underweight', 'Normal', 'Overweight', 'Obese']\n",
    "\n",
    "insurance['bmi_category'] = pd.cut(insurance['bmi'], bins=bins, labels=labels)\n",
    "\n",
    "print(insurance['bmi_category'].value_counts())"
   ]
  },
  {
   "cell_type": "code",
   "execution_count": 4,
   "id": "ea528a2a",
   "metadata": {},
   "outputs": [
    {
     "name": "stderr",
     "output_type": "stream",
     "text": [
      "C:\\Users\\FJ01\\AppData\\Local\\Temp\\ipykernel_9964\\31081494.py:1: FutureWarning: The default of observed=False is deprecated and will be changed to True in a future version of pandas. Pass observed=False to retain current behavior or observed=True to adopt the future default and silence this warning.\n",
      "  bmi_smoker =  insurance.groupby(['bmi_category','smoker'])['charges'].mean().reset_index()\n"
     ]
    },
    {
     "data": {
      "text/html": [
       "<div>\n",
       "<style scoped>\n",
       "    .dataframe tbody tr th:only-of-type {\n",
       "        vertical-align: middle;\n",
       "    }\n",
       "\n",
       "    .dataframe tbody tr th {\n",
       "        vertical-align: top;\n",
       "    }\n",
       "\n",
       "    .dataframe thead th {\n",
       "        text-align: right;\n",
       "    }\n",
       "</style>\n",
       "<table border=\"1\" class=\"dataframe\">\n",
       "  <thead>\n",
       "    <tr style=\"text-align: right;\">\n",
       "      <th></th>\n",
       "      <th>bmi_category</th>\n",
       "      <th>smoker</th>\n",
       "      <th>charges</th>\n",
       "    </tr>\n",
       "  </thead>\n",
       "  <tbody>\n",
       "    <tr>\n",
       "      <th>0</th>\n",
       "      <td>Underweight</td>\n",
       "      <td>no</td>\n",
       "      <td>5485.056800</td>\n",
       "    </tr>\n",
       "    <tr>\n",
       "      <th>1</th>\n",
       "      <td>Underweight</td>\n",
       "      <td>yes</td>\n",
       "      <td>18809.824980</td>\n",
       "    </tr>\n",
       "    <tr>\n",
       "      <th>2</th>\n",
       "      <td>Normal</td>\n",
       "      <td>no</td>\n",
       "      <td>7616.208985</td>\n",
       "    </tr>\n",
       "    <tr>\n",
       "      <th>3</th>\n",
       "      <td>Normal</td>\n",
       "      <td>yes</td>\n",
       "      <td>19942.223641</td>\n",
       "    </tr>\n",
       "    <tr>\n",
       "      <th>4</th>\n",
       "      <td>Overweight</td>\n",
       "      <td>no</td>\n",
       "      <td>8348.367998</td>\n",
       "    </tr>\n",
       "    <tr>\n",
       "      <th>5</th>\n",
       "      <td>Overweight</td>\n",
       "      <td>yes</td>\n",
       "      <td>22379.034063</td>\n",
       "    </tr>\n",
       "    <tr>\n",
       "      <th>6</th>\n",
       "      <td>Obese</td>\n",
       "      <td>no</td>\n",
       "      <td>8809.545659</td>\n",
       "    </tr>\n",
       "    <tr>\n",
       "      <th>7</th>\n",
       "      <td>Obese</td>\n",
       "      <td>yes</td>\n",
       "      <td>41355.869131</td>\n",
       "    </tr>\n",
       "  </tbody>\n",
       "</table>\n",
       "</div>"
      ],
      "text/plain": [
       "  bmi_category smoker       charges\n",
       "0  Underweight     no   5485.056800\n",
       "1  Underweight    yes  18809.824980\n",
       "2       Normal     no   7616.208985\n",
       "3       Normal    yes  19942.223641\n",
       "4   Overweight     no   8348.367998\n",
       "5   Overweight    yes  22379.034063\n",
       "6        Obese     no   8809.545659\n",
       "7        Obese    yes  41355.869131"
      ]
     },
     "execution_count": 4,
     "metadata": {},
     "output_type": "execute_result"
    }
   ],
   "source": [
    "bmi_smoker =  insurance.groupby(['bmi_category','smoker'])['charges'].mean().reset_index()\n",
    "bmi_smoker"
   ]
  },
  {
   "cell_type": "code",
   "execution_count": 5,
   "id": "55b5387f",
   "metadata": {},
   "outputs": [
    {
     "data": {
      "text/plain": [
       "<Axes: xlabel='smoker', ylabel='charges'>"
      ]
     },
     "execution_count": 5,
     "metadata": {},
     "output_type": "execute_result"
    },
    {
     "data": {
      "image/png": "[encoded data removed]",
      "text/plain": [
       "<Figure size 640x480 with 1 Axes>"
      ]
     },
     "metadata": {},
     "output_type": "display_data"
    }
   ],
   "source": [
    "sns.barplot(data=bmi_smoker, x='smoker', y='charges', hue='bmi_category')"
   ]
  },
  {
   "cell_type": "code",
   "execution_count": 6,
   "id": "c017a84c",
   "metadata": {},
   "outputs": [
    {
     "name": "stderr",
     "output_type": "stream",
     "text": [
      "C:\\Users\\FJ01\\AppData\\Local\\Temp\\ipykernel_9964\\621042054.py:1: FutureWarning: The default of observed=False is deprecated and will be changed to True in a future version of pandas. Pass observed=False to retain current behavior or observed=True to adopt the future default and silence this warning.\n",
      "  bmi_sex = insurance.groupby(['bmi_category','sex'])['charges'].mean().reset_index()\n"
     ]
    },
    {
     "data": {
      "text/html": [
       "<div>\n",
       "<style scoped>\n",
       "    .dataframe tbody tr th:only-of-type {\n",
       "        vertical-align: middle;\n",
       "    }\n",
       "\n",
       "    .dataframe tbody tr th {\n",
       "        vertical-align: top;\n",
       "    }\n",
       "\n",
       "    .dataframe thead th {\n",
       "        text-align: right;\n",
       "    }\n",
       "</style>\n",
       "<table border=\"1\" class=\"dataframe\">\n",
       "  <thead>\n",
       "    <tr style=\"text-align: right;\">\n",
       "      <th></th>\n",
       "      <th>bmi_category</th>\n",
       "      <th>sex</th>\n",
       "      <th>charges</th>\n",
       "    </tr>\n",
       "  </thead>\n",
       "  <tbody>\n",
       "    <tr>\n",
       "      <th>0</th>\n",
       "      <td>Underweight</td>\n",
       "      <td>female</td>\n",
       "      <td>10532.029435</td>\n",
       "    </tr>\n",
       "    <tr>\n",
       "      <th>1</th>\n",
       "      <td>Underweight</td>\n",
       "      <td>male</td>\n",
       "      <td>5611.706381</td>\n",
       "    </tr>\n",
       "    <tr>\n",
       "      <th>2</th>\n",
       "      <td>Normal</td>\n",
       "      <td>female</td>\n",
       "      <td>10987.580283</td>\n",
       "    </tr>\n",
       "    <tr>\n",
       "      <th>3</th>\n",
       "      <td>Normal</td>\n",
       "      <td>male</td>\n",
       "      <td>9772.747038</td>\n",
       "    </tr>\n",
       "    <tr>\n",
       "      <th>4</th>\n",
       "      <td>Overweight</td>\n",
       "      <td>female</td>\n",
       "      <td>10660.361642</td>\n",
       "    </tr>\n",
       "    <tr>\n",
       "      <th>5</th>\n",
       "      <td>Overweight</td>\n",
       "      <td>male</td>\n",
       "      <td>11360.629578</td>\n",
       "    </tr>\n",
       "    <tr>\n",
       "      <th>6</th>\n",
       "      <td>Obese</td>\n",
       "      <td>female</td>\n",
       "      <td>14250.829369</td>\n",
       "    </tr>\n",
       "    <tr>\n",
       "      <th>7</th>\n",
       "      <td>Obese</td>\n",
       "      <td>male</td>\n",
       "      <td>16626.097857</td>\n",
       "    </tr>\n",
       "  </tbody>\n",
       "</table>\n",
       "</div>"
      ],
      "text/plain": [
       "  bmi_category     sex       charges\n",
       "0  Underweight  female  10532.029435\n",
       "1  Underweight    male   5611.706381\n",
       "2       Normal  female  10987.580283\n",
       "3       Normal    male   9772.747038\n",
       "4   Overweight  female  10660.361642\n",
       "5   Overweight    male  11360.629578\n",
       "6        Obese  female  14250.829369\n",
       "7        Obese    male  16626.097857"
      ]
     },
     "execution_count": 6,
     "metadata": {},
     "output_type": "execute_result"
    }
   ],
   "source": [
    "bmi_sex = insurance.groupby(['bmi_category','sex'])['charges'].mean().reset_index()\n",
    "bmi_sex"
   ]
  },
  {
   "cell_type": "code",
   "execution_count": 152,
   "id": "a6a4733f",
   "metadata": {},
   "outputs": [
    {
     "data": {
      "text/plain": [
       "<Axes: xlabel='sex', ylabel='charges'>"
      ]
     },
     "execution_count": 152,
     "metadata": {},
     "output_type": "execute_result"
    },
    {
     "data": {
      "image/png": "[encoded data removed]",
      "text/plain": [
       "<Figure size 640x480 with 1 Axes>"
      ]
     },
     "metadata": {},
     "output_type": "display_data"
    }
   ],
   "source": [
    "sns.barplot(data=bmi_sex, x='sex', y='charges', hue='bmi_category')"
   ]
  },
  {
   "cell_type": "code",
   "execution_count": 11,
   "id": "df208e1e",
   "metadata": {},
   "outputs": [
    {
     "data": {
      "text/plain": [
       "<Axes: xlabel='bmi_age', ylabel='charges'>"
      ]
     },
     "execution_count": 11,
     "metadata": {},
     "output_type": "execute_result"
    },
    {
     "data": {
      "image/png": "[encoded data removed]",
      "text/plain": [
       "<Figure size 640x480 with 1 Axes>"
      ]
     },
     "metadata": {},
     "output_type": "display_data"
    }
   ],
   "source": [
    "df = insurance.copy()\n",
    "\n",
    "df['bmi_age'] = df['age'] * df['bmi']\n",
    "\n",
    "sns.scatterplot(data=df, x='bmi_age', y='charges')"
   ]
  },
  {
   "cell_type": "code",
   "execution_count": 14,
   "id": "56cc2287",
   "metadata": {},
   "outputs": [
    {
     "data": {
      "text/html": [
       "<div>\n",
       "<style scoped>\n",
       "    .dataframe tbody tr th:only-of-type {\n",
       "        vertical-align: middle;\n",
       "    }\n",
       "\n",
       "    .dataframe tbody tr th {\n",
       "        vertical-align: top;\n",
       "    }\n",
       "\n",
       "    .dataframe thead th {\n",
       "        text-align: right;\n",
       "    }\n",
       "</style>\n",
       "<table border=\"1\" class=\"dataframe\">\n",
       "  <thead>\n",
       "    <tr style=\"text-align: right;\">\n",
       "      <th></th>\n",
       "      <th>charges</th>\n",
       "      <th>bmi_age</th>\n",
       "      <th>age_poly</th>\n",
       "    </tr>\n",
       "  </thead>\n",
       "  <tbody>\n",
       "    <tr>\n",
       "      <th>charges</th>\n",
       "      <td>1.000000</td>\n",
       "      <td>0.334754</td>\n",
       "      <td>0.297167</td>\n",
       "    </tr>\n",
       "    <tr>\n",
       "      <th>bmi_age</th>\n",
       "      <td>0.334754</td>\n",
       "      <td>1.000000</td>\n",
       "      <td>0.852818</td>\n",
       "    </tr>\n",
       "    <tr>\n",
       "      <th>age_poly</th>\n",
       "      <td>0.297167</td>\n",
       "      <td>0.852818</td>\n",
       "      <td>1.000000</td>\n",
       "    </tr>\n",
       "  </tbody>\n",
       "</table>\n",
       "</div>"
      ],
      "text/plain": [
       "           charges   bmi_age  age_poly\n",
       "charges   1.000000  0.334754  0.297167\n",
       "bmi_age   0.334754  1.000000  0.852818\n",
       "age_poly  0.297167  0.852818  1.000000"
      ]
     },
     "execution_count": 14,
     "metadata": {},
     "output_type": "execute_result"
    }
   ],
   "source": [
    "df[['charges','bmi_age','age_poly']].corr()"
   ]
  },
  {
   "cell_type": "code",
   "execution_count": 13,
   "id": "edd52cb7",
   "metadata": {},
   "outputs": [
    {
     "data": {
      "text/plain": [
       "<Axes: xlabel='age_poly', ylabel='charges'>"
      ]
     },
     "execution_count": 13,
     "metadata": {},
     "output_type": "execute_result"
    },
    {
     "data": {
      "image/png": "[encoded data removed]",
      "text/plain": [
       "<Figure size 640x480 with 1 Axes>"
      ]
     },
     "metadata": {},
     "output_type": "display_data"
    }
   ],
   "source": [
    "df['age_poly'] = df['age']**3\n",
    "\n",
    "sns.scatterplot(data=df, x='age_poly', y='charges')"
   ]
  },
  {
   "cell_type": "code",
   "execution_count": 170,
   "id": "85e6a462",
   "metadata": {},
   "outputs": [
    {
     "data": {
      "text/html": [
       "<div>\n",
       "<style scoped>\n",
       "    .dataframe tbody tr th:only-of-type {\n",
       "        vertical-align: middle;\n",
       "    }\n",
       "\n",
       "    .dataframe tbody tr th {\n",
       "        vertical-align: top;\n",
       "    }\n",
       "\n",
       "    .dataframe thead th {\n",
       "        text-align: right;\n",
       "    }\n",
       "</style>\n",
       "<table border=\"1\" class=\"dataframe\">\n",
       "  <thead>\n",
       "    <tr style=\"text-align: right;\">\n",
       "      <th></th>\n",
       "      <th>age</th>\n",
       "      <th>charges</th>\n",
       "      <th>bmi</th>\n",
       "      <th>bmi_age</th>\n",
       "      <th>age_poly</th>\n",
       "    </tr>\n",
       "  </thead>\n",
       "  <tbody>\n",
       "    <tr>\n",
       "      <th>age</th>\n",
       "      <td>1.000000</td>\n",
       "      <td>0.299008</td>\n",
       "      <td>0.109272</td>\n",
       "      <td>0.879840</td>\n",
       "      <td>0.959865</td>\n",
       "    </tr>\n",
       "    <tr>\n",
       "      <th>charges</th>\n",
       "      <td>0.299008</td>\n",
       "      <td>1.000000</td>\n",
       "      <td>0.198341</td>\n",
       "      <td>0.334754</td>\n",
       "      <td>0.297167</td>\n",
       "    </tr>\n",
       "    <tr>\n",
       "      <th>bmi</th>\n",
       "      <td>0.109272</td>\n",
       "      <td>0.198341</td>\n",
       "      <td>1.000000</td>\n",
       "      <td>0.539637</td>\n",
       "      <td>0.113443</td>\n",
       "    </tr>\n",
       "    <tr>\n",
       "      <th>bmi_age</th>\n",
       "      <td>0.879840</td>\n",
       "      <td>0.334754</td>\n",
       "      <td>0.539637</td>\n",
       "      <td>1.000000</td>\n",
       "      <td>0.852818</td>\n",
       "    </tr>\n",
       "    <tr>\n",
       "      <th>age_poly</th>\n",
       "      <td>0.959865</td>\n",
       "      <td>0.297167</td>\n",
       "      <td>0.113443</td>\n",
       "      <td>0.852818</td>\n",
       "      <td>1.000000</td>\n",
       "    </tr>\n",
       "  </tbody>\n",
       "</table>\n",
       "</div>"
      ],
      "text/plain": [
       "               age   charges       bmi   bmi_age  age_poly\n",
       "age       1.000000  0.299008  0.109272  0.879840  0.959865\n",
       "charges   0.299008  1.000000  0.198341  0.334754  0.297167\n",
       "bmi       0.109272  0.198341  1.000000  0.539637  0.113443\n",
       "bmi_age   0.879840  0.334754  0.539637  1.000000  0.852818\n",
       "age_poly  0.959865  0.297167  0.113443  0.852818  1.000000"
      ]
     },
     "execution_count": 170,
     "metadata": {},
     "output_type": "execute_result"
    }
   ],
   "source": [
    "df[['age','charges','bmi','bmi_age','age_poly']].corr()"
   ]
  },
  {
   "cell_type": "code",
   "execution_count": 15,
   "id": "e02044f7",
   "metadata": {},
   "outputs": [
    {
     "data": {
      "text/html": [
       "<div>\n",
       "<style scoped>\n",
       "    .dataframe tbody tr th:only-of-type {\n",
       "        vertical-align: middle;\n",
       "    }\n",
       "\n",
       "    .dataframe tbody tr th {\n",
       "        vertical-align: top;\n",
       "    }\n",
       "\n",
       "    .dataframe thead th {\n",
       "        text-align: right;\n",
       "    }\n",
       "</style>\n",
       "<table border=\"1\" class=\"dataframe\">\n",
       "  <thead>\n",
       "    <tr style=\"text-align: right;\">\n",
       "      <th></th>\n",
       "      <th>bmi</th>\n",
       "      <th>age</th>\n",
       "      <th>charges</th>\n",
       "      <th>age_group</th>\n",
       "    </tr>\n",
       "  </thead>\n",
       "  <tbody>\n",
       "    <tr>\n",
       "      <th>0</th>\n",
       "      <td>15.960</td>\n",
       "      <td>18</td>\n",
       "      <td>1694.79640</td>\n",
       "      <td>(15, 20]</td>\n",
       "    </tr>\n",
       "    <tr>\n",
       "      <th>1</th>\n",
       "      <td>16.815</td>\n",
       "      <td>21</td>\n",
       "      <td>3167.45585</td>\n",
       "      <td>(20, 25]</td>\n",
       "    </tr>\n",
       "    <tr>\n",
       "      <th>2</th>\n",
       "      <td>16.815</td>\n",
       "      <td>38</td>\n",
       "      <td>6640.54485</td>\n",
       "      <td>(35, 40]</td>\n",
       "    </tr>\n",
       "    <tr>\n",
       "      <th>3</th>\n",
       "      <td>17.195</td>\n",
       "      <td>26</td>\n",
       "      <td>14455.64405</td>\n",
       "      <td>(25, 30]</td>\n",
       "    </tr>\n",
       "    <tr>\n",
       "      <th>4</th>\n",
       "      <td>17.290</td>\n",
       "      <td>18</td>\n",
       "      <td>12829.45510</td>\n",
       "      <td>(15, 20]</td>\n",
       "    </tr>\n",
       "  </tbody>\n",
       "</table>\n",
       "</div>"
      ],
      "text/plain": [
       "      bmi  age      charges age_group\n",
       "0  15.960   18   1694.79640  (15, 20]\n",
       "1  16.815   21   3167.45585  (20, 25]\n",
       "2  16.815   38   6640.54485  (35, 40]\n",
       "3  17.195   26  14455.64405  (25, 30]\n",
       "4  17.290   18  12829.45510  (15, 20]"
      ]
     },
     "execution_count": 15,
     "metadata": {},
     "output_type": "execute_result"
    }
   ],
   "source": [
    "# grouping by bmi, age and charges \n",
    "bmi_age = insurance.groupby(['bmi','age'])['charges'].mean().reset_index()\n",
    "bmi_age['age_group'] = pd.cut(bmi_age['age'], bins=range(15, 70, 5))\n",
    "bmi_age.head()"
   ]
  },
  {
   "cell_type": "code",
   "execution_count": 134,
   "id": "63112064",
   "metadata": {},
   "outputs": [
    {
     "data": {
      "text/plain": [
       "<Axes: xlabel='age', ylabel='charges'>"
      ]
     },
     "execution_count": 134,
     "metadata": {},
     "output_type": "execute_result"
    },
    {
     "data": {
      "image/png": "[encoded data removed]",
      "text/plain": [
       "<Figure size 640x480 with 1 Axes>"
      ]
     },
     "metadata": {},
     "output_type": "display_data"
    }
   ],
   "source": [
    "sns.scatterplot(data=insurance, x='age', y='charges', hue='smoker')"
   ]
  },
  {
   "cell_type": "code",
   "execution_count": 66,
   "id": "3fe6d848",
   "metadata": {},
   "outputs": [
    {
     "data": {
      "text/html": [
       "<div>\n",
       "<style scoped>\n",
       "    .dataframe tbody tr th:only-of-type {\n",
       "        vertical-align: middle;\n",
       "    }\n",
       "\n",
       "    .dataframe tbody tr th {\n",
       "        vertical-align: top;\n",
       "    }\n",
       "\n",
       "    .dataframe thead th {\n",
       "        text-align: right;\n",
       "    }\n",
       "</style>\n",
       "<table border=\"1\" class=\"dataframe\">\n",
       "  <thead>\n",
       "    <tr style=\"text-align: right;\">\n",
       "      <th></th>\n",
       "      <th>age</th>\n",
       "      <th>charges</th>\n",
       "      <th>bmi</th>\n",
       "      <th>children</th>\n",
       "    </tr>\n",
       "  </thead>\n",
       "  <tbody>\n",
       "    <tr>\n",
       "      <th>age</th>\n",
       "      <td>1.000000</td>\n",
       "      <td>0.299008</td>\n",
       "      <td>0.109272</td>\n",
       "      <td>0.042469</td>\n",
       "    </tr>\n",
       "    <tr>\n",
       "      <th>charges</th>\n",
       "      <td>0.299008</td>\n",
       "      <td>1.000000</td>\n",
       "      <td>0.198341</td>\n",
       "      <td>0.067998</td>\n",
       "    </tr>\n",
       "    <tr>\n",
       "      <th>bmi</th>\n",
       "      <td>0.109272</td>\n",
       "      <td>0.198341</td>\n",
       "      <td>1.000000</td>\n",
       "      <td>0.012759</td>\n",
       "    </tr>\n",
       "    <tr>\n",
       "      <th>children</th>\n",
       "      <td>0.042469</td>\n",
       "      <td>0.067998</td>\n",
       "      <td>0.012759</td>\n",
       "      <td>1.000000</td>\n",
       "    </tr>\n",
       "  </tbody>\n",
       "</table>\n",
       "</div>"
      ],
      "text/plain": [
       "               age   charges       bmi  children\n",
       "age       1.000000  0.299008  0.109272  0.042469\n",
       "charges   0.299008  1.000000  0.198341  0.067998\n",
       "bmi       0.109272  0.198341  1.000000  0.012759\n",
       "children  0.042469  0.067998  0.012759  1.000000"
      ]
     },
     "execution_count": 66,
     "metadata": {},
     "output_type": "execute_result"
    }
   ],
   "source": [
    "insurance[['age','charges','bmi','children']].corr()"
   ]
  },
  {
   "cell_type": "code",
   "execution_count": 17,
   "id": "e45b7ccb",
   "metadata": {},
   "outputs": [
    {
     "data": {
      "text/plain": [
       "Index(['age', 'sex', 'bmi', 'children', 'smoker', 'region', 'charges',\n",
       "       'bmi_category'],\n",
       "      dtype='object')"
      ]
     },
     "execution_count": 17,
     "metadata": {},
     "output_type": "execute_result"
    }
   ],
   "source": [
    "insurance.columns"
   ]
  },
  {
   "cell_type": "code",
   "execution_count": 6,
   "id": "40f51365",
   "metadata": {},
   "outputs": [],
   "source": [
    "numerical_cols = ['age','bmi', 'charges']\n",
    "categorical_cols = ['sex', 'smoker', 'region','children']"
   ]
  },
  {
   "cell_type": "markdown",
   "id": "c61ca56c",
   "metadata": {},
   "source": [
    "**Check the distribution of numerical columns**"
   ]
  },
  {
   "cell_type": "code",
   "execution_count": null,
   "id": "9a8df3a7",
   "metadata": {},
   "outputs": [],
   "source": [
    "for col in numerical_cols:\n",
    "    sns.histplot(data=insurance, x=col)\n",
    "    plt.tight_layout()\n",
    "    plt.title(f'distribution of {col}')\n",
    "    plt.show()"
   ]
  },
  {
   "cell_type": "markdown",
   "id": "6ddc654d",
   "metadata": {},
   "source": [
    "**Check for distrbution of Categorical columns**"
   ]
  },
  {
   "cell_type": "code",
   "execution_count": null,
   "id": "7cca9ed2",
   "metadata": {},
   "outputs": [],
   "source": [
    "for cols in categorical_cols:\n",
    "    sns.countplot(data=insurance, x=cols)\n",
    "    plt.tight_layout()\n",
    "    plt.title(f'distribution of {cols}')\n",
    "    plt.show()"
   ]
  },
  {
   "cell_type": "markdown",
   "id": "a36bf613",
   "metadata": {},
   "source": [
    "**Relationship between numerical columns and target**"
   ]
  },
  {
   "cell_type": "code",
   "execution_count": null,
   "id": "b747591d",
   "metadata": {},
   "outputs": [],
   "source": [
    "for col in ['age','bmi']:\n",
    "    sns.regplot(data=insurance, x=col, y='charges')\n",
    "    plt.show()"
   ]
  },
  {
   "cell_type": "code",
   "execution_count": null,
   "id": "0ff9012c",
   "metadata": {},
   "outputs": [],
   "source": [
    "sns.boxplot(data=insurance, x='children', y='charges')"
   ]
  },
  {
   "cell_type": "markdown",
   "id": "33ca039c",
   "metadata": {},
   "source": [
    "**Relationship between categorical features and target**"
   ]
  },
  {
   "cell_type": "code",
   "execution_count": null,
   "id": "70d3bd9f",
   "metadata": {},
   "outputs": [],
   "source": [
    "for col in categorical_cols:\n",
    "    sns.boxplot(data=insurance, x=col, y='charges', palette='Set1')\n",
    "    plt.tight_layout()\n",
    "    plt.show()\n"
   ]
  },
  {
   "cell_type": "code",
   "execution_count": 7,
   "id": "0ae19d07",
   "metadata": {},
   "outputs": [
    {
     "data": {
      "text/plain": [
       "bmi     age\n",
       "15.960  18      1694.79640\n",
       "16.815  21      3167.45585\n",
       "        38      6640.54485\n",
       "17.195  26     14455.64405\n",
       "17.290  18     12829.45510\n",
       "                  ...     \n",
       "48.070  46      9432.92530\n",
       "49.060  58     11381.32540\n",
       "50.380  23      2438.05520\n",
       "52.580  22     44501.39820\n",
       "53.130  18      1163.46270\n",
       "Name: charges, Length: 1295, dtype: float64"
      ]
     },
     "execution_count": 7,
     "metadata": {},
     "output_type": "execute_result"
    }
   ],
   "source": [
    "insurance.groupby(['bmi','age'])['charges'].mean()"
   ]
  },
  {
   "cell_type": "code",
   "execution_count": null,
   "id": "0d8608e5",
   "metadata": {},
   "outputs": [],
   "source": [
    "for col in numerical_cols:\n",
    "    sns.regplot(data=insurance, x=col, y='charges')\n",
    "    plt.tight_layout()\n",
    "    plt.show()"
   ]
  },
  {
   "cell_type": "markdown",
   "id": "991397a4",
   "metadata": {},
   "source": [
    "### Setting a Baseline Estimate "
   ]
  },
  {
   "cell_type": "code",
   "execution_count": 8,
   "id": "57bb4b9f",
   "metadata": {},
   "outputs": [],
   "source": [
    "from sklearn.model_selection import train_test_split\n",
    "from sklearn.metrics import mean_absolute_error, r2_score, root_mean_squared_error\n",
    "\n",
    "train_target, test_target = train_test_split(insurance['charges'], test_size=0.2, random_state=42)\n",
    "\n",
    "mean_train_target = train_target.mean()"
   ]
  },
  {
   "cell_type": "code",
   "execution_count": 9,
   "id": "81ac0728",
   "metadata": {},
   "outputs": [
    {
     "name": "stdout",
     "output_type": "stream",
     "text": [
      "Baseline MAE: 9593.33846086229\n",
      "Baseline R2: -0.0009192486886582252\n",
      "Baseline RMSE: 12465.610441715768\n"
     ]
    }
   ],
   "source": [
    "# print(mean_train_target)\n",
    "\n",
    "length = len(test_target)\n",
    "\n",
    "baseline_pred = np.full(shape=length, fill_value= mean_train_target) # this creates an np series of the mean_train_target\n",
    "# the np.full essentiall just copies the values of mean_train_target and create a series of shape\n",
    "\n",
    "baseline_mae = mean_absolute_error(test_target, baseline_pred)\n",
    "baseline_r2 = r2_score(test_target, baseline_pred)\n",
    "baseline_rmse = root_mean_squared_error(test_target, baseline_pred)\n",
    "\n",
    "print(f'Baseline MAE: {baseline_mae}')\n",
    "print(f'Baseline R2: {baseline_r2}')\n",
    "print(f'Baseline RMSE: {baseline_rmse}')"
   ]
  },
  {
   "cell_type": "markdown",
   "id": "7ee7bb06",
   "metadata": {},
   "source": [
    "### Feature Engineering "
   ]
  },
  {
   "cell_type": "code",
   "execution_count": null,
   "id": "529c4822",
   "metadata": {},
   "outputs": [],
   "source": [
    "# 1  from my EDA my features distribution of numerical colums are okay so no feature engineering transformation on them\n",
    "\n",
    "# 2. categorical distribution is okay but since there are more non-smokers than smokers:\n",
    "#    we can use a hyperparamers in the XGboost model\n",
    "\n",
    "# 3. From EDA we observe that relationship between num_col and target is linear and the have little correlation\n",
    "#    we'll try and combine some features to the num_col to see if it imporove the relationship between it and target\n",
    "#    something like weight class which shows significant relationship \n",
    "\n",
    "# 4. We classified bmi into categories based on a range\n",
    "#      we then checked bmi_categories vs sex, smokers and the barplot provided a better relationship btw then 2 and the charges\n",
    "\n",
    "# 5. features i'll be using cause they are predictive [age, sex, bmi, bmi_categories, region, smokers,children]\n",
    "\n",
    "# 6. i did a bmi_age combination and then check the relationship between it and the target\n",
    "#    it had a linear relationship and the corr was higher than each of them indvidually with the target\n",
    "#    the bmi_smoker has even better correlation\n",
    "#    would be using both of them\n"
   ]
  },
  {
   "cell_type": "code",
   "execution_count": 10,
   "id": "1652c517",
   "metadata": {},
   "outputs": [],
   "source": [
    "# bmi category column\n",
    "bins = [0, 18.5, 24.9, 29.9, float('inf')]\n",
    "labels = ['Underweight', 'Normal', 'Overweight', 'Obese']\n",
    "\n",
    "insurance['bmi_category'] = pd.cut(insurance['bmi'], bins=bins, labels=labels)"
   ]
  },
  {
   "cell_type": "code",
   "execution_count": 11,
   "id": "f7aaa302",
   "metadata": {},
   "outputs": [],
   "source": [
    "# another way to do create a category though the dtype would be object not category\n",
    "def age_bucket(age):\n",
    "    if age < 25:\n",
    "        return 'young'\n",
    "    elif age < 45:\n",
    "        return 'middle-aged'\n",
    "    elif age < 60:\n",
    "        return 'senior'\n",
    "    else:\n",
    "        return 'elder'\n",
    "\n",
    "insurance['age_group'] = insurance['age'].apply(age_bucket)\n"
   ]
  },
  {
   "cell_type": "code",
   "execution_count": 20,
   "id": "2eb0b930",
   "metadata": {},
   "outputs": [
    {
     "data": {
      "text/plain": [
       "Index(['age', 'sex', 'bmi', 'children', 'smoker', 'region', 'charges',\n",
       "       'bmi_category', 'age_group'],\n",
       "      dtype='object')"
      ]
     },
     "execution_count": 20,
     "metadata": {},
     "output_type": "execute_result"
    }
   ],
   "source": [
    "insurance.columns"
   ]
  },
  {
   "cell_type": "code",
   "execution_count": 12,
   "id": "cd45235c",
   "metadata": {},
   "outputs": [
    {
     "data": {
      "text/html": [
       "<div>\n",
       "<style scoped>\n",
       "    .dataframe tbody tr th:only-of-type {\n",
       "        vertical-align: middle;\n",
       "    }\n",
       "\n",
       "    .dataframe tbody tr th {\n",
       "        vertical-align: top;\n",
       "    }\n",
       "\n",
       "    .dataframe thead th {\n",
       "        text-align: right;\n",
       "    }\n",
       "</style>\n",
       "<table border=\"1\" class=\"dataframe\">\n",
       "  <thead>\n",
       "    <tr style=\"text-align: right;\">\n",
       "      <th></th>\n",
       "      <th>age</th>\n",
       "      <th>bmi</th>\n",
       "      <th>bmi_age</th>\n",
       "      <th>bmi_smoker</th>\n",
       "      <th>charges</th>\n",
       "    </tr>\n",
       "  </thead>\n",
       "  <tbody>\n",
       "    <tr>\n",
       "      <th>age</th>\n",
       "      <td>1.000000</td>\n",
       "      <td>0.109272</td>\n",
       "      <td>0.879840</td>\n",
       "      <td>-0.018383</td>\n",
       "      <td>0.299008</td>\n",
       "    </tr>\n",
       "    <tr>\n",
       "      <th>bmi</th>\n",
       "      <td>0.109272</td>\n",
       "      <td>1.000000</td>\n",
       "      <td>0.539637</td>\n",
       "      <td>0.108741</td>\n",
       "      <td>0.198341</td>\n",
       "    </tr>\n",
       "    <tr>\n",
       "      <th>bmi_age</th>\n",
       "      <td>0.879840</td>\n",
       "      <td>0.539637</td>\n",
       "      <td>1.000000</td>\n",
       "      <td>0.028517</td>\n",
       "      <td>0.334754</td>\n",
       "    </tr>\n",
       "    <tr>\n",
       "      <th>bmi_smoker</th>\n",
       "      <td>-0.018383</td>\n",
       "      <td>0.108741</td>\n",
       "      <td>0.028517</td>\n",
       "      <td>1.000000</td>\n",
       "      <td>0.845120</td>\n",
       "    </tr>\n",
       "    <tr>\n",
       "      <th>charges</th>\n",
       "      <td>0.299008</td>\n",
       "      <td>0.198341</td>\n",
       "      <td>0.334754</td>\n",
       "      <td>0.845120</td>\n",
       "      <td>1.000000</td>\n",
       "    </tr>\n",
       "  </tbody>\n",
       "</table>\n",
       "</div>"
      ],
      "text/plain": [
       "                 age       bmi   bmi_age  bmi_smoker   charges\n",
       "age         1.000000  0.109272  0.879840   -0.018383  0.299008\n",
       "bmi         0.109272  1.000000  0.539637    0.108741  0.198341\n",
       "bmi_age     0.879840  0.539637  1.000000    0.028517  0.334754\n",
       "bmi_smoker -0.018383  0.108741  0.028517    1.000000  0.845120\n",
       "charges     0.299008  0.198341  0.334754    0.845120  1.000000"
      ]
     },
     "execution_count": 12,
     "metadata": {},
     "output_type": "execute_result"
    }
   ],
   "source": [
    "insurance['bmi_age'] = insurance['age'] * insurance['bmi']\n",
    "insurance['bmi_smoker'] = insurance['bmi'] * insurance['smoker'].map({'yes': 1, 'no': 0})\n",
    "\n",
    "insurance[['age','bmi', 'bmi_age','bmi_smoker', 'charges']].corr()"
   ]
  },
  {
   "cell_type": "markdown",
   "id": "e62451e4",
   "metadata": {},
   "source": [
    "### Preprocessing "
   ]
  },
  {
   "cell_type": "code",
   "execution_count": 13,
   "id": "0cdaefbe",
   "metadata": {},
   "outputs": [],
   "source": [
    "df = insurance.copy()\n",
    "# i don't eant to lose the insurance dataset "
   ]
  },
  {
   "cell_type": "code",
   "execution_count": 14,
   "id": "3dca5a66",
   "metadata": {},
   "outputs": [],
   "source": [
    "from sklearn.model_selection import train_test_split\n",
    "y = df.pop('charges')\n",
    "X = df\n",
    "X_train, X_test, y_train, y_test = train_test_split(X, y, test_size=0.33, random_state=42)"
   ]
  },
  {
   "cell_type": "code",
   "execution_count": 27,
   "id": "589bdcc6",
   "metadata": {},
   "outputs": [
    {
     "data": {
      "text/plain": [
       "Index(['age', 'sex', 'bmi', 'children', 'smoker', 'region', 'charges',\n",
       "       'bmi_category', 'age_group', 'bmi_age', 'bmi_smoker'],\n",
       "      dtype='object')"
      ]
     },
     "execution_count": 27,
     "metadata": {},
     "output_type": "execute_result"
    }
   ],
   "source": [
    "insurance.columns"
   ]
  },
  {
   "cell_type": "code",
   "execution_count": 15,
   "id": "348589de",
   "metadata": {},
   "outputs": [],
   "source": [
    "from sklearn.pipeline import Pipeline\n",
    "from sklearn.preprocessing import OneHotEncoder, StandardScaler, LabelEncoder, OrdinalEncoder\n",
    "\n",
    "num_col = ['age','bmi', 'children','bmi_age', 'bmi_smoker']\n",
    "cat_col = ['sex', 'smoker', 'region','age_group', 'bmi_category']\n",
    "\n",
    "num_pipeline = Pipeline(steps=[\n",
    "    ('scale',StandardScaler())\n",
    "]\n",
    ")\n",
    "\n",
    "cat_pipeline_tree = Pipeline(\n",
    "    steps=[\n",
    "        ('Ordinal Encoding', OrdinalEncoder(handle_unknown='use_encoded_value',unknown_value=-1))\n",
    "    ]\n",
    ")\n",
    "\n",
    "cat_pipeline_line = Pipeline(\n",
    "    steps=[\n",
    "        ('One-hot encoding', OneHotEncoder(handle_unknown='ignore',sparse_output=False))\n",
    "    ]\n",
    ")"
   ]
  },
  {
   "cell_type": "code",
   "execution_count": 16,
   "id": "5a7d48b4",
   "metadata": {},
   "outputs": [],
   "source": [
    "from sklearn.compose import ColumnTransformer\n",
    "\n",
    "preprocessing_tree = ColumnTransformer(\n",
    "    transformers=[\n",
    "        ('num_pipeline', num_pipeline, num_col),\n",
    "        ('cat_pipeline_tree', cat_pipeline_tree, cat_col)\n",
    "    ],\n",
    "    remainder='drop',\n",
    "    n_jobs=-1\n",
    ")\n",
    "\n",
    "preprocessing_line = ColumnTransformer(\n",
    "    transformers=[\n",
    "        ('num_pipeline', num_pipeline, num_col),\n",
    "        ('cat_pipeline_line', cat_pipeline_line, cat_col)\n",
    "    ],\n",
    "    remainder='drop',\n",
    "    n_jobs= -1\n",
    ")"
   ]
  },
  {
   "cell_type": "code",
   "execution_count": 17,
   "id": "1085570b",
   "metadata": {},
   "outputs": [],
   "source": [
    "from xgboost import XGBRFRegressor\n",
    "from sklearn.linear_model import Ridge\n",
    "from sklearn.ensemble import RandomForestRegressor\n",
    "from sklearn.svm import SVR"
   ]
  },
  {
   "cell_type": "code",
   "execution_count": 18,
   "id": "e8406758",
   "metadata": {},
   "outputs": [],
   "source": [
    "models = [\n",
    "(\n",
    "    'Ridge',\n",
    "    Ridge(),\n",
    "    {'Ridge__alpha': [0.01, 0.1, 1.0, 10.0],\n",
    "     'Ridge__solver': ['auto', 'svd', 'cholesky', 'lsqr']},\n",
    "    (X_train, y_train),\n",
    "    (X_test, y_test),\n",
    "    preprocessing_line\n",
    "),\n",
    "(\n",
    "    'RF',\n",
    "    RandomForestRegressor(),\n",
    "    {'RF__n_estimators': [50, 100, 200, 300], # specifying the parameter as such is better and runs without errors\n",
    "     'RF__max_depth': [None, 10, 20, 30],\n",
    "     },\n",
    "    (X_train, y_train),\n",
    "    (X_test, y_test),\n",
    "    preprocessing_tree\n",
    "),\n",
    "(\n",
    "    'xgb',\n",
    "    XGBRFRegressor(),\n",
    "    {'xgb__n_estimators': [50, 100, 200, 300], \n",
    "     'xgb__max_depth': [3, 5, 7, 10],\n",
    "     'xgb__learning_rate': [0.01, 0.05, 0.1, 0.3],\n",
    "     },\n",
    "    (X_train, y_train),\n",
    "    (X_test, y_test),\n",
    "    preprocessing_tree\n",
    "),\n",
    "(\n",
    "    'SVR',\n",
    "    SVR(),\n",
    "    {'SVR__kernel': ['linear', 'rbf'],\n",
    "     'SVR__C': [0.1, 1, 10, 100],\n",
    "     },\n",
    "    (X_train, y_train),\n",
    "    (X_test, y_test),\n",
    "    preprocessing_line\n",
    ")\n",
    "]"
   ]
  },
  {
   "cell_type": "markdown",
   "id": "6fa021bf",
   "metadata": {},
   "source": [
    "### Hyperparameter Tuning and Model Training "
   ]
  },
  {
   "cell_type": "code",
   "execution_count": 19,
   "id": "743f0f58",
   "metadata": {},
   "outputs": [
    {
     "name": "stdout",
     "output_type": "stream",
     "text": [
      "Fitting 5 folds for each of 10 candidates, totalling 50 fits\n",
      "Fitting 5 folds for each of 10 candidates, totalling 50 fits\n",
      "Fitting 5 folds for each of 10 candidates, totalling 50 fits\n"
     ]
    },
    {
     "name": "stderr",
     "output_type": "stream",
     "text": [
      "c:\\Users\\FJ01\\anaconda3\\Lib\\site-packages\\sklearn\\model_selection\\_search.py:318: UserWarning: The total space of parameters 8 is smaller than n_iter=10. Running 8 iterations. For exhaustive searches, use GridSearchCV.\n",
      "  warnings.warn(\n"
     ]
    },
    {
     "name": "stdout",
     "output_type": "stream",
     "text": [
      "Fitting 5 folds for each of 8 candidates, totalling 40 fits\n"
     ]
    },
    {
     "data": {
      "text/plain": [
       "['report.joblib']"
      ]
     },
     "execution_count": 19,
     "metadata": {},
     "output_type": "execute_result"
    }
   ],
   "source": [
    "from sklearn.pipeline import make_pipeline\n",
    "from sklearn.metrics import classification_report, r2_score, mean_absolute_error, root_mean_squared_error, accuracy_score\n",
    "from sklearn.model_selection import RandomizedSearchCV\n",
    "import joblib\n",
    "\n",
    "\n",
    "importances_list = []\n",
    "reports = []\n",
    "metrics = {}\n",
    "for mod in models:\n",
    "\n",
    "    name, model, param, train_set, test_set, preprocessing = mod\n",
    "    x_train1 = train_set[0]\n",
    "    y_train1 = train_set[1]\n",
    "    x_test1 = test_set[0]\n",
    "    y_test1 = test_set[1]\n",
    "\n",
    "    pipe = Pipeline(\n",
    "        steps=[('preprocessing',preprocessing),\n",
    "            (name,model)\n",
    "            ]\n",
    "    )\n",
    "    random_search = RandomizedSearchCV(\n",
    "        estimator= pipe,\n",
    "        param_distributions= param,\n",
    "        n_iter= 10,\n",
    "        scoring= 'neg_mean_absolute_error',\n",
    "        cv= 5,\n",
    "        random_state= 42,\n",
    "        verbose= 1,\n",
    "        n_jobs= -1 \n",
    "    )\n",
    "\n",
    "    joblib.dump(pipe,f'pipeline for {name}.joblib')\n",
    "\n",
    "    random_search.fit(x_train1,y_train1)\n",
    "    best_model = random_search.best_estimator_\n",
    "    \n",
    "    best_model.fit(x_train1,y_train1)\n",
    "    y_pred = best_model.predict(x_test1)\n",
    "\n",
    "    #Evaluation\n",
    "    mae = mean_absolute_error(y_test1,y_pred)\n",
    "    r2 = r2_score(y_test1, y_pred)\n",
    "    rmse = root_mean_squared_error(y_test1, y_pred)\n",
    "\n",
    "    metrics = {\n",
    "        'mean_average_error': mae,\n",
    "        'r2 score': r2,\n",
    "        'root_mean_squared_error': rmse\n",
    "        }\n",
    "    \n",
    "    parameters = random_search.best_params_\n",
    "\n",
    "\n",
    "    reports.append({\n",
    "        'model_name': name,\n",
    "        'metrics': metrics,\n",
    "        'params': parameters,\n",
    "        'model': best_model\n",
    "    })\n",
    "\n",
    "\n",
    "joblib.dump(reports, 'report.joblib')"
   ]
  },
  {
   "cell_type": "markdown",
   "id": "9f8c5f7f",
   "metadata": {},
   "source": [
    "### Model Experiment and Tracking "
   ]
  },
  {
   "cell_type": "code",
   "execution_count": 20,
   "metadata": {},
   "outputs": [],
   "source": [
    "import mlflow \n",
    "import mlflow.sklearn\n",
    "import mlflow.xgboost"
   ]
  },
  {
   "cell_type": "code",
   "execution_count": 21,
   "id": "25e61ced",
   "metadata": {},
   "outputs": [
    {
     "data": {
      "text/html": [
       "<pre style=\"white-space:pre;overflow-x:auto;line-height:normal;font-family:Menlo,'DejaVu Sans Mono',consolas,'Courier New',monospace\">Accessing as jerremiahwilly\n",
       "</pre>\n"
      ],
      "text/plain": [
       "Accessing as jerremiahwilly\n"
      ]
     },
     "metadata": {},
     "output_type": "display_data"
    },
    {
     "data": {
      "text/html": [
       "<pre style=\"white-space:pre;overflow-x:auto;line-height:normal;font-family:Menlo,'DejaVu Sans Mono',consolas,'Courier New',monospace\">Initialized MLflow to track repo <span style=\"color: #008000; text-decoration-color: #008000\">\"jerremiahwilly/Medical-Insurance\"</span>\n",
       "</pre>\n"
      ],
      "text/plain": [
       "Initialized MLflow to track repo \u001b[32m\"jerremiahwilly/Medical-Insurance\"\u001b[0m\n"
      ]
     },
     "metadata": {},
     "output_type": "display_data"
    },
    {
     "data": {
      "text/html": [
       "<pre style=\"white-space:pre;overflow-x:auto;line-height:normal;font-family:Menlo,'DejaVu Sans Mono',consolas,'Courier New',monospace\">Repository jerremiahwilly/Medical-Insurance initialized!\n",
       "</pre>\n"
      ],
      "text/plain": [
       "Repository jerremiahwilly/Medical-Insurance initialized!\n"
      ]
     },
     "metadata": {},
     "output_type": "display_data"
    }
   ],
   "source": [
    "import dagshub\n",
    "dagshub.init(repo_owner='jerremiahwilly', repo_name='Medical-Insurance', mlflow=True)"
   ]
  },
  {
   "cell_type": "code",
   "execution_count": 52,
   "id": "0700b00f",
   "metadata": {},
   "outputs": [
    {
     "data": {
      "text/html": [
       "<style>#sk-container-id-1 {\n",
       "  /* Definition of color scheme common for light and dark mode */\n",
       "  --sklearn-color-text: black;\n",
       "  --sklearn-color-line: gray;\n",
       "  /* Definition of color scheme for unfitted estimators */\n",
       "  --sklearn-color-unfitted-level-0: #fff5e6;\n",
       "  --sklearn-color-unfitted-level-1: #f6e4d2;\n",
       "  --sklearn-color-unfitted-level-2: #ffe0b3;\n",
       "  --sklearn-color-unfitted-level-3: chocolate;\n",
       "  /* Definition of color scheme for fitted estimators */\n",
       "  --sklearn-color-fitted-level-0: #f0f8ff;\n",
       "  --sklearn-color-fitted-level-1: #d4ebff;\n",
       "  --sklearn-color-fitted-level-2: #b3dbfd;\n",
       "  --sklearn-color-fitted-level-3: cornflowerblue;\n",
       "\n",
       "  /* Specific color for light theme */\n",
       "  --sklearn-color-text-on-default-background: var(--sg-text-color, var(--theme-code-foreground, var(--jp-content-font-color1, black)));\n",
       "  --sklearn-color-background: var(--sg-background-color, var(--theme-background, var(--jp-layout-color0, white)));\n",
       "  --sklearn-color-border-box: var(--sg-text-color, var(--theme-code-foreground, var(--jp-content-font-color1, black)));\n",
       "  --sklearn-color-icon: #696969;\n",
       "\n",
       "  @media (prefers-color-scheme: dark) {\n",
       "    /* Redefinition of color scheme for dark theme */\n",
       "    --sklearn-color-text-on-default-background: var(--sg-text-color, var(--theme-code-foreground, var(--jp-content-font-color1, white)));\n",
       "    --sklearn-color-background: var(--sg-background-color, var(--theme-background, var(--jp-layout-color0, #111)));\n",
       "    --sklearn-color-border-box: var(--sg-text-color, var(--theme-code-foreground, var(--jp-content-font-color1, white)));\n",
       "    --sklearn-color-icon: #878787;\n",
       "  }\n",
       "}\n",
       "\n",
       "#sk-container-id-1 {\n",
       "  color: var(--sklearn-color-text);\n",
       "}\n",
       "\n",
       "#sk-container-id-1 pre {\n",
       "  padding: 0;\n",
       "}\n",
       "\n",
       "#sk-container-id-1 input.sk-hidden--visually {\n",
       "  border: 0;\n",
       "  clip: rect(1px 1px 1px 1px);\n",
       "  clip: rect(1px, 1px, 1px, 1px);\n",
       "  height: 1px;\n",
       "  margin: -1px;\n",
       "  overflow: hidden;\n",
       "  padding: 0;\n",
       "  position: absolute;\n",
       "  width: 1px;\n",
       "}\n",
       "\n",
       "#sk-container-id-1 div.sk-dashed-wrapped {\n",
       "  border: 1px dashed var(--sklearn-color-line);\n",
       "  margin: 0 0.4em 0.5em 0.4em;\n",
       "  box-sizing: border-box;\n",
       "  padding-bottom: 0.4em;\n",
       "  background-color: var(--sklearn-color-background);\n",
       "}\n",
       "\n",
       "#sk-container-id-1 div.sk-container {\n",
       "  /* jupyter's `normalize.less` sets `[hidden] { display: none; }`\n",
       "     but bootstrap.min.css set `[hidden] { display: none !important; }`\n",
       "     so we also need the `!important` here to be able to override the\n",
       "     default hidden behavior on the sphinx rendered scikit-learn.org.\n",
       "     See: https://github.com/scikit-learn/scikit-learn/issues/21755 */\n",
       "  display: inline-block !important;\n",
       "  position: relative;\n",
       "}\n",
       "\n",
       "#sk-container-id-1 div.sk-text-repr-fallback {\n",
       "  display: none;\n",
       "}\n",
       "\n",
       "div.sk-parallel-item,\n",
       "div.sk-serial,\n",
       "div.sk-item {\n",
       "  /* draw centered vertical line to link estimators */\n",
       "  background-image: linear-gradient(var(--sklearn-color-text-on-default-background), var(--sklearn-color-text-on-default-background));\n",
       "  background-size: 2px 100%;\n",
       "  background-repeat: no-repeat;\n",
       "  background-position: center center;\n",
       "}\n",
       "\n",
       "/* Parallel-specific style estimator block */\n",
       "\n",
       "#sk-container-id-1 div.sk-parallel-item::after {\n",
       "  content: \"\";\n",
       "  width: 100%;\n",
       "  border-bottom: 2px solid var(--sklearn-color-text-on-default-background);\n",
       "  flex-grow: 1;\n",
       "}\n",
       "\n",
       "#sk-container-id-1 div.sk-parallel {\n",
       "  display: flex;\n",
       "  align-items: stretch;\n",
       "  justify-content: center;\n",
       "  background-color: var(--sklearn-color-background);\n",
       "  position: relative;\n",
       "}\n",
       "\n",
       "#sk-container-id-1 div.sk-parallel-item {\n",
       "  display: flex;\n",
       "  flex-direction: column;\n",
       "}\n",
       "\n",
       "#sk-container-id-1 div.sk-parallel-item:first-child::after {\n",
       "  align-self: flex-end;\n",
       "  width: 50%;\n",
       "}\n",
       "\n",
       "#sk-container-id-1 div.sk-parallel-item:last-child::after {\n",
       "  align-self: flex-start;\n",
       "  width: 50%;\n",
       "}\n",
       "\n",
       "#sk-container-id-1 div.sk-parallel-item:only-child::after {\n",
       "  width: 0;\n",
       "}\n",
       "\n",
       "/* Serial-specific style estimator block */\n",
       "\n",
       "#sk-container-id-1 div.sk-serial {\n",
       "  display: flex;\n",
       "  flex-direction: column;\n",
       "  align-items: center;\n",
       "  background-color: var(--sklearn-color-background);\n",
       "  padding-right: 1em;\n",
       "  padding-left: 1em;\n",
       "}\n",
       "\n",
       "\n",
       "/* Toggleable style: style used for estimator/Pipeline/ColumnTransformer box that is\n",
       "clickable and can be expanded/collapsed.\n",
       "- Pipeline and ColumnTransformer use this feature and define the default style\n",
       "- Estimators will overwrite some part of the style using the `sk-estimator` class\n",
       "*/\n",
       "\n",
       "/* Pipeline and ColumnTransformer style (default) */\n",
       "\n",
       "#sk-container-id-1 div.sk-toggleable {\n",
       "  /* Default theme specific background. It is overwritten whether we have a\n",
       "  specific estimator or a Pipeline/ColumnTransformer */\n",
       "  background-color: var(--sklearn-color-background);\n",
       "}\n",
       "\n",
       "/* Toggleable label */\n",
       "#sk-container-id-1 label.sk-toggleable__label {\n",
       "  cursor: pointer;\n",
       "  display: block;\n",
       "  width: 100%;\n",
       "  margin-bottom: 0;\n",
       "  padding: 0.5em;\n",
       "  box-sizing: border-box;\n",
       "  text-align: center;\n",
       "}\n",
       "\n",
       "#sk-container-id-1 label.sk-toggleable__label-arrow:before {\n",
       "  /* Arrow on the left of the label */\n",
       "  content: \"▸\";\n",
       "  float: left;\n",
       "  margin-right: 0.25em;\n",
       "  color: var(--sklearn-color-icon);\n",
       "}\n",
       "\n",
       "#sk-container-id-1 label.sk-toggleable__label-arrow:hover:before {\n",
       "  color: var(--sklearn-color-text);\n",
       "}\n",
       "\n",
       "/* Toggleable content - dropdown */\n",
       "\n",
       "#sk-container-id-1 div.sk-toggleable__content {\n",
       "  max-height: 0;\n",
       "  max-width: 0;\n",
       "  overflow: hidden;\n",
       "  text-align: left;\n",
       "  /* unfitted */\n",
       "  background-color: var(--sklearn-color-unfitted-level-0);\n",
       "}\n",
       "\n",
       "#sk-container-id-1 div.sk-toggleable__content.fitted {\n",
       "  /* fitted */\n",
       "  background-color: var(--sklearn-color-fitted-level-0);\n",
       "}\n",
       "\n",
       "#sk-container-id-1 div.sk-toggleable__content pre {\n",
       "  margin: 0.2em;\n",
       "  border-radius: 0.25em;\n",
       "  color: var(--sklearn-color-text);\n",
       "  /* unfitted */\n",
       "  background-color: var(--sklearn-color-unfitted-level-0);\n",
       "}\n",
       "\n",
       "#sk-container-id-1 div.sk-toggleable__content.fitted pre {\n",
       "  /* unfitted */\n",
       "  background-color: var(--sklearn-color-fitted-level-0);\n",
       "}\n",
       "\n",
       "#sk-container-id-1 input.sk-toggleable__control:checked~div.sk-toggleable__content {\n",
       "  /* Expand drop-down */\n",
       "  max-height: 200px;\n",
       "  max-width: 100%;\n",
       "  overflow: auto;\n",
       "}\n",
       "\n",
       "#sk-container-id-1 input.sk-toggleable__control:checked~label.sk-toggleable__label-arrow:before {\n",
       "  content: \"▾\";\n",
       "}\n",
       "\n",
       "/* Pipeline/ColumnTransformer-specific style */\n",
       "\n",
       "#sk-container-id-1 div.sk-label input.sk-toggleable__control:checked~label.sk-toggleable__label {\n",
       "  color: var(--sklearn-color-text);\n",
       "  background-color: var(--sklearn-color-unfitted-level-2);\n",
       "}\n",
       "\n",
       "#sk-container-id-1 div.sk-label.fitted input.sk-toggleable__control:checked~label.sk-toggleable__label {\n",
       "  background-color: var(--sklearn-color-fitted-level-2);\n",
       "}\n",
       "\n",
       "/* Estimator-specific style */\n",
       "\n",
       "/* Colorize estimator box */\n",
       "#sk-container-id-1 div.sk-estimator input.sk-toggleable__control:checked~label.sk-toggleable__label {\n",
       "  /* unfitted */\n",
       "  background-color: var(--sklearn-color-unfitted-level-2);\n",
       "}\n",
       "\n",
       "#sk-container-id-1 div.sk-estimator.fitted input.sk-toggleable__control:checked~label.sk-toggleable__label {\n",
       "  /* fitted */\n",
       "  background-color: var(--sklearn-color-fitted-level-2);\n",
       "}\n",
       "\n",
       "#sk-container-id-1 div.sk-label label.sk-toggleable__label,\n",
       "#sk-container-id-1 div.sk-label label {\n",
       "  /* The background is the default theme color */\n",
       "  color: var(--sklearn-color-text-on-default-background);\n",
       "}\n",
       "\n",
       "/* On hover, darken the color of the background */\n",
       "#sk-container-id-1 div.sk-label:hover label.sk-toggleable__label {\n",
       "  color: var(--sklearn-color-text);\n",
       "  background-color: var(--sklearn-color-unfitted-level-2);\n",
       "}\n",
       "\n",
       "/* Label box, darken color on hover, fitted */\n",
       "#sk-container-id-1 div.sk-label.fitted:hover label.sk-toggleable__label.fitted {\n",
       "  color: var(--sklearn-color-text);\n",
       "  background-color: var(--sklearn-color-fitted-level-2);\n",
       "}\n",
       "\n",
       "/* Estimator label */\n",
       "\n",
       "#sk-container-id-1 div.sk-label label {\n",
       "  font-family: monospace;\n",
       "  font-weight: bold;\n",
       "  display: inline-block;\n",
       "  line-height: 1.2em;\n",
       "}\n",
       "\n",
       "#sk-container-id-1 div.sk-label-container {\n",
       "  text-align: center;\n",
       "}\n",
       "\n",
       "/* Estimator-specific */\n",
       "#sk-container-id-1 div.sk-estimator {\n",
       "  font-family: monospace;\n",
       "  border: 1px dotted var(--sklearn-color-border-box);\n",
       "  border-radius: 0.25em;\n",
       "  box-sizing: border-box;\n",
       "  margin-bottom: 0.5em;\n",
       "  /* unfitted */\n",
       "  background-color: var(--sklearn-color-unfitted-level-0);\n",
       "}\n",
       "\n",
       "#sk-container-id-1 div.sk-estimator.fitted {\n",
       "  /* fitted */\n",
       "  background-color: var(--sklearn-color-fitted-level-0);\n",
       "}\n",
       "\n",
       "/* on hover */\n",
       "#sk-container-id-1 div.sk-estimator:hover {\n",
       "  /* unfitted */\n",
       "  background-color: var(--sklearn-color-unfitted-level-2);\n",
       "}\n",
       "\n",
       "#sk-container-id-1 div.sk-estimator.fitted:hover {\n",
       "  /* fitted */\n",
       "  background-color: var(--sklearn-color-fitted-level-2);\n",
       "}\n",
       "\n",
       "/* Specification for estimator info (e.g. \"i\" and \"?\") */\n",
       "\n",
       "/* Common style for \"i\" and \"?\" */\n",
       "\n",
       ".sk-estimator-doc-link,\n",
       "a:link.sk-estimator-doc-link,\n",
       "a:visited.sk-estimator-doc-link {\n",
       "  float: right;\n",
       "  font-size: smaller;\n",
       "  line-height: 1em;\n",
       "  font-family: monospace;\n",
       "  background-color: var(--sklearn-color-background);\n",
       "  border-radius: 1em;\n",
       "  height: 1em;\n",
       "  width: 1em;\n",
       "  text-decoration: none !important;\n",
       "  margin-left: 1ex;\n",
       "  /* unfitted */\n",
       "  border: var(--sklearn-color-unfitted-level-1) 1pt solid;\n",
       "  color: var(--sklearn-color-unfitted-level-1);\n",
       "}\n",
       "\n",
       ".sk-estimator-doc-link.fitted,\n",
       "a:link.sk-estimator-doc-link.fitted,\n",
       "a:visited.sk-estimator-doc-link.fitted {\n",
       "  /* fitted */\n",
       "  border: var(--sklearn-color-fitted-level-1) 1pt solid;\n",
       "  color: var(--sklearn-color-fitted-level-1);\n",
       "}\n",
       "\n",
       "/* On hover */\n",
       "div.sk-estimator:hover .sk-estimator-doc-link:hover,\n",
       ".sk-estimator-doc-link:hover,\n",
       "div.sk-label-container:hover .sk-estimator-doc-link:hover,\n",
       ".sk-estimator-doc-link:hover {\n",
       "  /* unfitted */\n",
       "  background-color: var(--sklearn-color-unfitted-level-3);\n",
       "  color: var(--sklearn-color-background);\n",
       "  text-decoration: none;\n",
       "}\n",
       "\n",
       "div.sk-estimator.fitted:hover .sk-estimator-doc-link.fitted:hover,\n",
       ".sk-estimator-doc-link.fitted:hover,\n",
       "div.sk-label-container:hover .sk-estimator-doc-link.fitted:hover,\n",
       ".sk-estimator-doc-link.fitted:hover {\n",
       "  /* fitted */\n",
       "  background-color: var(--sklearn-color-fitted-level-3);\n",
       "  color: var(--sklearn-color-background);\n",
       "  text-decoration: none;\n",
       "}\n",
       "\n",
       "/* Span, style for the box shown on hovering the info icon */\n",
       ".sk-estimator-doc-link span {\n",
       "  display: none;\n",
       "  z-index: 9999;\n",
       "  position: relative;\n",
       "  font-weight: normal;\n",
       "  right: .2ex;\n",
       "  padding: .5ex;\n",
       "  margin: .5ex;\n",
       "  width: min-content;\n",
       "  min-width: 20ex;\n",
       "  max-width: 50ex;\n",
       "  color: var(--sklearn-color-text);\n",
       "  box-shadow: 2pt 2pt 4pt #999;\n",
       "  /* unfitted */\n",
       "  background: var(--sklearn-color-unfitted-level-0);\n",
       "  border: .5pt solid var(--sklearn-color-unfitted-level-3);\n",
       "}\n",
       "\n",
       ".sk-estimator-doc-link.fitted span {\n",
       "  /* fitted */\n",
       "  background: var(--sklearn-color-fitted-level-0);\n",
       "  border: var(--sklearn-color-fitted-level-3);\n",
       "}\n",
       "\n",
       ".sk-estimator-doc-link:hover span {\n",
       "  display: block;\n",
       "}\n",
       "\n",
       "/* \"?\"-specific style due to the `<a>` HTML tag */\n",
       "\n",
       "#sk-container-id-1 a.estimator_doc_link {\n",
       "  float: right;\n",
       "  font-size: 1rem;\n",
       "  line-height: 1em;\n",
       "  font-family: monospace;\n",
       "  background-color: var(--sklearn-color-background);\n",
       "  border-radius: 1rem;\n",
       "  height: 1rem;\n",
       "  width: 1rem;\n",
       "  text-decoration: none;\n",
       "  /* unfitted */\n",
       "  color: var(--sklearn-color-unfitted-level-1);\n",
       "  border: var(--sklearn-color-unfitted-level-1) 1pt solid;\n",
       "}\n",
       "\n",
       "#sk-container-id-1 a.estimator_doc_link.fitted {\n",
       "  /* fitted */\n",
       "  border: var(--sklearn-color-fitted-level-1) 1pt solid;\n",
       "  color: var(--sklearn-color-fitted-level-1);\n",
       "}\n",
       "\n",
       "/* On hover */\n",
       "#sk-container-id-1 a.estimator_doc_link:hover {\n",
       "  /* unfitted */\n",
       "  background-color: var(--sklearn-color-unfitted-level-3);\n",
       "  color: var(--sklearn-color-background);\n",
       "  text-decoration: none;\n",
       "}\n",
       "\n",
       "#sk-container-id-1 a.estimator_doc_link.fitted:hover {\n",
       "  /* fitted */\n",
       "  background-color: var(--sklearn-color-fitted-level-3);\n",
       "}\n",
       "</style><div id=\"sk-container-id-1\" class=\"sk-top-container\"><div class=\"sk-text-repr-fallback\"><pre>Pipeline(steps=[(&#x27;preprocessing&#x27;,\n",
       "                 ColumnTransformer(n_jobs=-1,\n",
       "                                   transformers=[(&#x27;num_pipeline&#x27;,\n",
       "                                                  Pipeline(steps=[(&#x27;scale&#x27;,\n",
       "                                                                   StandardScaler())]),\n",
       "                                                  [&#x27;age&#x27;, &#x27;bmi&#x27;, &#x27;children&#x27;,\n",
       "                                                   &#x27;bmi_age&#x27;, &#x27;bmi_smoker&#x27;]),\n",
       "                                                 (&#x27;cat_pipeline_line&#x27;,\n",
       "                                                  Pipeline(steps=[(&#x27;One-hot &#x27;\n",
       "                                                                   &#x27;encoding&#x27;,\n",
       "                                                                   OneHotEncoder(handle_unknown=&#x27;ignore&#x27;,\n",
       "                                                                                 sparse_output=False))]),\n",
       "                                                  [&#x27;sex&#x27;, &#x27;smoker&#x27;, &#x27;region&#x27;,\n",
       "                                                   &#x27;age_group&#x27;,\n",
       "                                                   &#x27;bmi_category&#x27;])])),\n",
       "                (&#x27;Ridge&#x27;, Ridge(alpha=0.1, solver=&#x27;svd&#x27;))])</pre><b>In a Jupyter environment, please rerun this cell to show the HTML representation or trust the notebook. <br />On GitHub, the HTML representation is unable to render, please try loading this page with nbviewer.org.</b></div><div class=\"sk-container\" hidden><div class=\"sk-item sk-dashed-wrapped\"><div class=\"sk-label-container\"><div class=\"sk-label fitted sk-toggleable\"><input class=\"sk-toggleable__control sk-hidden--visually\" id=\"sk-estimator-id-1\" type=\"checkbox\" ><label for=\"sk-estimator-id-1\" class=\"sk-toggleable__label fitted sk-toggleable__label-arrow fitted\">&nbsp;&nbsp;Pipeline<a class=\"sk-estimator-doc-link fitted\" rel=\"noreferrer\" target=\"_blank\" href=\"https://scikit-learn.org/1.4/modules/generated/sklearn.pipeline.Pipeline.html\">?<span>Documentation for Pipeline</span></a><span class=\"sk-estimator-doc-link fitted\">i<span>Fitted</span></span></label><div class=\"sk-toggleable__content fitted\"><pre>Pipeline(steps=[(&#x27;preprocessing&#x27;,\n",
       "                 ColumnTransformer(n_jobs=-1,\n",
       "                                   transformers=[(&#x27;num_pipeline&#x27;,\n",
       "                                                  Pipeline(steps=[(&#x27;scale&#x27;,\n",
       "                                                                   StandardScaler())]),\n",
       "                                                  [&#x27;age&#x27;, &#x27;bmi&#x27;, &#x27;children&#x27;,\n",
       "                                                   &#x27;bmi_age&#x27;, &#x27;bmi_smoker&#x27;]),\n",
       "                                                 (&#x27;cat_pipeline_line&#x27;,\n",
       "                                                  Pipeline(steps=[(&#x27;One-hot &#x27;\n",
       "                                                                   &#x27;encoding&#x27;,\n",
       "                                                                   OneHotEncoder(handle_unknown=&#x27;ignore&#x27;,\n",
       "                                                                                 sparse_output=False))]),\n",
       "                                                  [&#x27;sex&#x27;, &#x27;smoker&#x27;, &#x27;region&#x27;,\n",
       "                                                   &#x27;age_group&#x27;,\n",
       "                                                   &#x27;bmi_category&#x27;])])),\n",
       "                (&#x27;Ridge&#x27;, Ridge(alpha=0.1, solver=&#x27;svd&#x27;))])</pre></div> </div></div><div class=\"sk-serial\"><div class=\"sk-item sk-dashed-wrapped\"><div class=\"sk-label-container\"><div class=\"sk-label fitted sk-toggleable\"><input class=\"sk-toggleable__control sk-hidden--visually\" id=\"sk-estimator-id-2\" type=\"checkbox\" ><label for=\"sk-estimator-id-2\" class=\"sk-toggleable__label fitted sk-toggleable__label-arrow fitted\">&nbsp;preprocessing: ColumnTransformer<a class=\"sk-estimator-doc-link fitted\" rel=\"noreferrer\" target=\"_blank\" href=\"https://scikit-learn.org/1.4/modules/generated/sklearn.compose.ColumnTransformer.html\">?<span>Documentation for preprocessing: ColumnTransformer</span></a></label><div class=\"sk-toggleable__content fitted\"><pre>ColumnTransformer(n_jobs=-1,\n",
       "                  transformers=[(&#x27;num_pipeline&#x27;,\n",
       "                                 Pipeline(steps=[(&#x27;scale&#x27;, StandardScaler())]),\n",
       "                                 [&#x27;age&#x27;, &#x27;bmi&#x27;, &#x27;children&#x27;, &#x27;bmi_age&#x27;,\n",
       "                                  &#x27;bmi_smoker&#x27;]),\n",
       "                                (&#x27;cat_pipeline_line&#x27;,\n",
       "                                 Pipeline(steps=[(&#x27;One-hot encoding&#x27;,\n",
       "                                                  OneHotEncoder(handle_unknown=&#x27;ignore&#x27;,\n",
       "                                                                sparse_output=False))]),\n",
       "                                 [&#x27;sex&#x27;, &#x27;smoker&#x27;, &#x27;region&#x27;, &#x27;age_group&#x27;,\n",
       "                                  &#x27;bmi_category&#x27;])])</pre></div> </div></div><div class=\"sk-parallel\"><div class=\"sk-parallel-item\"><div class=\"sk-item\"><div class=\"sk-label-container\"><div class=\"sk-label fitted sk-toggleable\"><input class=\"sk-toggleable__control sk-hidden--visually\" id=\"sk-estimator-id-3\" type=\"checkbox\" ><label for=\"sk-estimator-id-3\" class=\"sk-toggleable__label fitted sk-toggleable__label-arrow fitted\">num_pipeline</label><div class=\"sk-toggleable__content fitted\"><pre>[&#x27;age&#x27;, &#x27;bmi&#x27;, &#x27;children&#x27;, &#x27;bmi_age&#x27;, &#x27;bmi_smoker&#x27;]</pre></div> </div></div><div class=\"sk-serial\"><div class=\"sk-item\"><div class=\"sk-serial\"><div class=\"sk-item\"><div class=\"sk-estimator fitted sk-toggleable\"><input class=\"sk-toggleable__control sk-hidden--visually\" id=\"sk-estimator-id-4\" type=\"checkbox\" ><label for=\"sk-estimator-id-4\" class=\"sk-toggleable__label fitted sk-toggleable__label-arrow fitted\">&nbsp;StandardScaler<a class=\"sk-estimator-doc-link fitted\" rel=\"noreferrer\" target=\"_blank\" href=\"https://scikit-learn.org/1.4/modules/generated/sklearn.preprocessing.StandardScaler.html\">?<span>Documentation for StandardScaler</span></a></label><div class=\"sk-toggleable__content fitted\"><pre>StandardScaler()</pre></div> </div></div></div></div></div></div></div><div class=\"sk-parallel-item\"><div class=\"sk-item\"><div class=\"sk-label-container\"><div class=\"sk-label fitted sk-toggleable\"><input class=\"sk-toggleable__control sk-hidden--visually\" id=\"sk-estimator-id-5\" type=\"checkbox\" ><label for=\"sk-estimator-id-5\" class=\"sk-toggleable__label fitted sk-toggleable__label-arrow fitted\">cat_pipeline_line</label><div class=\"sk-toggleable__content fitted\"><pre>[&#x27;sex&#x27;, &#x27;smoker&#x27;, &#x27;region&#x27;, &#x27;age_group&#x27;, &#x27;bmi_category&#x27;]</pre></div> </div></div><div class=\"sk-serial\"><div class=\"sk-item\"><div class=\"sk-serial\"><div class=\"sk-item\"><div class=\"sk-estimator fitted sk-toggleable\"><input class=\"sk-toggleable__control sk-hidden--visually\" id=\"sk-estimator-id-6\" type=\"checkbox\" ><label for=\"sk-estimator-id-6\" class=\"sk-toggleable__label fitted sk-toggleable__label-arrow fitted\">&nbsp;OneHotEncoder<a class=\"sk-estimator-doc-link fitted\" rel=\"noreferrer\" target=\"_blank\" href=\"https://scikit-learn.org/1.4/modules/generated/sklearn.preprocessing.OneHotEncoder.html\">?<span>Documentation for OneHotEncoder</span></a></label><div class=\"sk-toggleable__content fitted\"><pre>OneHotEncoder(handle_unknown=&#x27;ignore&#x27;, sparse_output=False)</pre></div> </div></div></div></div></div></div></div></div></div><div class=\"sk-item\"><div class=\"sk-estimator fitted sk-toggleable\"><input class=\"sk-toggleable__control sk-hidden--visually\" id=\"sk-estimator-id-7\" type=\"checkbox\" ><label for=\"sk-estimator-id-7\" class=\"sk-toggleable__label fitted sk-toggleable__label-arrow fitted\">&nbsp;Ridge<a class=\"sk-estimator-doc-link fitted\" rel=\"noreferrer\" target=\"_blank\" href=\"https://scikit-learn.org/1.4/modules/generated/sklearn.linear_model.Ridge.html\">?<span>Documentation for Ridge</span></a></label><div class=\"sk-toggleable__content fitted\"><pre>Ridge(alpha=0.1, solver=&#x27;svd&#x27;)</pre></div> </div></div></div></div></div></div>"
      ],
      "text/plain": [
       "Pipeline(steps=[('preprocessing',\n",
       "                 ColumnTransformer(n_jobs=-1,\n",
       "                                   transformers=[('num_pipeline',\n",
       "                                                  Pipeline(steps=[('scale',\n",
       "                                                                   StandardScaler())]),\n",
       "                                                  ['age', 'bmi', 'children',\n",
       "                                                   'bmi_age', 'bmi_smoker']),\n",
       "                                                 ('cat_pipeline_line',\n",
       "                                                  Pipeline(steps=[('One-hot '\n",
       "                                                                   'encoding',\n",
       "                                                                   OneHotEncoder(handle_unknown='ignore',\n",
       "                                                                                 sparse_output=False))]),\n",
       "                                                  ['sex', 'smoker', 'region',\n",
       "                                                   'age_group',\n",
       "                                                   'bmi_category'])])),\n",
       "                ('Ridge', Ridge(alpha=0.1, solver='svd'))])"
      ]
     },
     "execution_count": 52,
     "metadata": {},
     "output_type": "execute_result"
    }
   ],
   "source": [
    "reports[0]['model']"
   ]
  },
  {
   "cell_type": "code",
   "execution_count": 53,
   "id": "054f9f10",
   "metadata": {},
   "outputs": [
    {
     "name": "stdout",
     "output_type": "stream",
     "text": [
      "🏃 View run Ridge at: https://dagshub.com/jerremiahwilly/Medical-Insurance.mlflow/#/experiments/1/runs/811bdf02bdb04de4a618c3d2db2482fd\n",
      "🧪 View experiment at: https://dagshub.com/jerremiahwilly/Medical-Insurance.mlflow/#/experiments/1\n"
     ]
    },
    {
     "ename": "RestException",
     "evalue": "INTERNAL_ERROR: Response: {'error': 'unsupported endpoint, please contact support@dagshub.com'}",
     "output_type": "error",
     "traceback": [
      "\u001b[1;31m---------------------------------------------------------------------------\u001b[0m",
      "\u001b[1;31mRestException\u001b[0m                             Traceback (most recent call last)",
      "Cell \u001b[1;32mIn[53], line 27\u001b[0m\n\u001b[0;32m     21\u001b[0m         mlflow\u001b[38;5;241m.\u001b[39mlog_metric(m, v) \u001b[38;5;66;03m#save the metrics\u001b[39;00m\n\u001b[0;32m     23\u001b[0m     mlflow\u001b[38;5;241m.\u001b[39mlog_param(\u001b[38;5;124m'\u001b[39m\u001b[38;5;124mModel name\u001b[39m\u001b[38;5;124m'\u001b[39m, model_report[\u001b[38;5;124m'\u001b[39m\u001b[38;5;124mmodel_name\u001b[39m\u001b[38;5;124m'\u001b[39m]) \u001b[38;5;66;03m# a good pratice, usefull when trying to compare \u001b[39;00m\n\u001b[1;32m---> 27\u001b[0m     mlflow\u001b[38;5;241m.\u001b[39msklearn\u001b[38;5;241m.\u001b[39mlog_model(\n\u001b[0;32m     28\u001b[0m     sk_model\u001b[38;5;241m=\u001b[39mmodel_report[\u001b[38;5;124m'\u001b[39m\u001b[38;5;124mmodel\u001b[39m\u001b[38;5;124m'\u001b[39m],\n\u001b[0;32m     29\u001b[0m     name\u001b[38;5;241m=\u001b[39m model_report[\u001b[38;5;124m'\u001b[39m\u001b[38;5;124mmodel_name\u001b[39m\u001b[38;5;124m'\u001b[39m],\n\u001b[0;32m     30\u001b[0m     input_example\u001b[38;5;241m=\u001b[39mX_train,\n\u001b[0;32m     31\u001b[0m     registered_model_name\u001b[38;5;241m=\u001b[39m \u001b[38;5;124mf\u001b[39m\u001b[38;5;124m\"\u001b[39m\u001b[38;5;124msk-learn-\u001b[39m\u001b[38;5;132;01m{\u001b[39;00mname\u001b[38;5;132;01m}\u001b[39;00m\u001b[38;5;124m-reg-model\u001b[39m\u001b[38;5;124m\"\u001b[39m,\n\u001b[0;32m     32\u001b[0m )\n",
      "File \u001b[1;32mc:\\Users\\FJ01\\anaconda3\\Lib\\site-packages\\mlflow\\sklearn\\__init__.py:426\u001b[0m, in \u001b[0;36mlog_model\u001b[1;34m(sk_model, artifact_path, conda_env, code_paths, serialization_format, registered_model_name, signature, input_example, await_registration_for, pip_requirements, extra_pip_requirements, pyfunc_predict_fn, metadata, params, tags, model_type, step, model_id, name)\u001b[0m\n\u001b[0;32m    334\u001b[0m \u001b[38;5;129m@format_docstring\u001b[39m(LOG_MODEL_PARAM_DOCS\u001b[38;5;241m.\u001b[39mformat(package_name\u001b[38;5;241m=\u001b[39m\u001b[38;5;124m\"\u001b[39m\u001b[38;5;124mscikit-learn\u001b[39m\u001b[38;5;124m\"\u001b[39m))\n\u001b[0;32m    335\u001b[0m \u001b[38;5;28;01mdef\u001b[39;00m \u001b[38;5;21mlog_model\u001b[39m(\n\u001b[0;32m    336\u001b[0m     sk_model,\n\u001b[1;32m   (...)\u001b[0m\n\u001b[0;32m    355\u001b[0m     name: Optional[\u001b[38;5;28mstr\u001b[39m] \u001b[38;5;241m=\u001b[39m \u001b[38;5;28;01mNone\u001b[39;00m,\n\u001b[0;32m    356\u001b[0m ):\n\u001b[0;32m    357\u001b[0m \u001b[38;5;250m    \u001b[39m\u001b[38;5;124;03m\"\"\"\u001b[39;00m\n\u001b[0;32m    358\u001b[0m \u001b[38;5;124;03m    Log a scikit-learn model as an MLflow artifact for the current run. Produces an MLflow Model\u001b[39;00m\n\u001b[0;32m    359\u001b[0m \u001b[38;5;124;03m    containing the following flavors:\u001b[39;00m\n\u001b[1;32m   (...)\u001b[0m\n\u001b[0;32m    424\u001b[0m \n\u001b[0;32m    425\u001b[0m \u001b[38;5;124;03m    \"\"\"\u001b[39;00m\n\u001b[1;32m--> 426\u001b[0m     \u001b[38;5;28;01mreturn\u001b[39;00m Model\u001b[38;5;241m.\u001b[39mlog(\n\u001b[0;32m    427\u001b[0m         artifact_path\u001b[38;5;241m=\u001b[39martifact_path,\n\u001b[0;32m    428\u001b[0m         name\u001b[38;5;241m=\u001b[39mname,\n\u001b[0;32m    429\u001b[0m         flavor\u001b[38;5;241m=\u001b[39mmlflow\u001b[38;5;241m.\u001b[39msklearn,\n\u001b[0;32m    430\u001b[0m         sk_model\u001b[38;5;241m=\u001b[39msk_model,\n\u001b[0;32m    431\u001b[0m         conda_env\u001b[38;5;241m=\u001b[39mconda_env,\n\u001b[0;32m    432\u001b[0m         code_paths\u001b[38;5;241m=\u001b[39mcode_paths,\n\u001b[0;32m    433\u001b[0m         serialization_format\u001b[38;5;241m=\u001b[39mserialization_format,\n\u001b[0;32m    434\u001b[0m         registered_model_name\u001b[38;5;241m=\u001b[39mregistered_model_name,\n\u001b[0;32m    435\u001b[0m         signature\u001b[38;5;241m=\u001b[39msignature,\n\u001b[0;32m    436\u001b[0m         input_example\u001b[38;5;241m=\u001b[39minput_example,\n\u001b[0;32m    437\u001b[0m         await_registration_for\u001b[38;5;241m=\u001b[39mawait_registration_for,\n\u001b[0;32m    438\u001b[0m         pip_requirements\u001b[38;5;241m=\u001b[39mpip_requirements,\n\u001b[0;32m    439\u001b[0m         extra_pip_requirements\u001b[38;5;241m=\u001b[39mextra_pip_requirements,\n\u001b[0;32m    440\u001b[0m         pyfunc_predict_fn\u001b[38;5;241m=\u001b[39mpyfunc_predict_fn,\n\u001b[0;32m    441\u001b[0m         metadata\u001b[38;5;241m=\u001b[39mmetadata,\n\u001b[0;32m    442\u001b[0m         params\u001b[38;5;241m=\u001b[39mparams,\n\u001b[0;32m    443\u001b[0m         tags\u001b[38;5;241m=\u001b[39mtags,\n\u001b[0;32m    444\u001b[0m         model_type\u001b[38;5;241m=\u001b[39mmodel_type,\n\u001b[0;32m    445\u001b[0m         step\u001b[38;5;241m=\u001b[39mstep,\n\u001b[0;32m    446\u001b[0m         model_id\u001b[38;5;241m=\u001b[39mmodel_id,\n\u001b[0;32m    447\u001b[0m     )\n",
      "File \u001b[1;32mc:\\Users\\FJ01\\anaconda3\\Lib\\site-packages\\mlflow\\models\\model.py:1161\u001b[0m, in \u001b[0;36mModel.log\u001b[1;34m(cls, artifact_path, flavor, registered_model_name, await_registration_for, metadata, run_id, resources, auth_policy, prompts, name, model_type, params, tags, step, model_id, **kwargs)\u001b[0m\n\u001b[0;32m   1156\u001b[0m \u001b[38;5;28;01melse\u001b[39;00m:\n\u001b[0;32m   1157\u001b[0m     params \u001b[38;5;241m=\u001b[39m {\n\u001b[0;32m   1158\u001b[0m         \u001b[38;5;241m*\u001b[39m\u001b[38;5;241m*\u001b[39m(params \u001b[38;5;129;01mor\u001b[39;00m {}),\n\u001b[0;32m   1159\u001b[0m         \u001b[38;5;241m*\u001b[39m\u001b[38;5;241m*\u001b[39m(client\u001b[38;5;241m.\u001b[39mget_run(run_id)\u001b[38;5;241m.\u001b[39mdata\u001b[38;5;241m.\u001b[39mparams \u001b[38;5;28;01mif\u001b[39;00m run_id \u001b[38;5;28;01melse\u001b[39;00m {}),\n\u001b[0;32m   1160\u001b[0m     }\n\u001b[1;32m-> 1161\u001b[0m     model \u001b[38;5;241m=\u001b[39m mlflow\u001b[38;5;241m.\u001b[39minitialize_logged_model(\n\u001b[0;32m   1162\u001b[0m         \u001b[38;5;66;03m# TODO: Update model name\u001b[39;00m\n\u001b[0;32m   1163\u001b[0m         name\u001b[38;5;241m=\u001b[39mname,\n\u001b[0;32m   1164\u001b[0m         source_run_id\u001b[38;5;241m=\u001b[39mrun_id,\n\u001b[0;32m   1165\u001b[0m         model_type\u001b[38;5;241m=\u001b[39mmodel_type,\n\u001b[0;32m   1166\u001b[0m         params\u001b[38;5;241m=\u001b[39m{key: \u001b[38;5;28mstr\u001b[39m(value) \u001b[38;5;28;01mfor\u001b[39;00m key, value \u001b[38;5;129;01min\u001b[39;00m params\u001b[38;5;241m.\u001b[39mitems()},\n\u001b[0;32m   1167\u001b[0m         tags\u001b[38;5;241m=\u001b[39m{key: \u001b[38;5;28mstr\u001b[39m(value) \u001b[38;5;28;01mfor\u001b[39;00m key, value \u001b[38;5;129;01min\u001b[39;00m tags\u001b[38;5;241m.\u001b[39mitems()}\n\u001b[0;32m   1168\u001b[0m         \u001b[38;5;28;01mif\u001b[39;00m tags \u001b[38;5;129;01mis\u001b[39;00m \u001b[38;5;129;01mnot\u001b[39;00m \u001b[38;5;28;01mNone\u001b[39;00m\n\u001b[0;32m   1169\u001b[0m         \u001b[38;5;28;01melse\u001b[39;00m \u001b[38;5;28;01mNone\u001b[39;00m,\n\u001b[0;32m   1170\u001b[0m     )\n\u001b[0;32m   1171\u001b[0m     \u001b[38;5;28;01mif\u001b[39;00m (\n\u001b[0;32m   1172\u001b[0m         MLFLOW_PRINT_MODEL_URLS_ON_CREATION\u001b[38;5;241m.\u001b[39mget()\n\u001b[0;32m   1173\u001b[0m         \u001b[38;5;129;01mand\u001b[39;00m is_databricks_uri(tracking_uri)\n\u001b[0;32m   1174\u001b[0m         \u001b[38;5;129;01mand\u001b[39;00m (workspace_url \u001b[38;5;241m:=\u001b[39m get_workspace_url())\n\u001b[0;32m   1175\u001b[0m     ):\n\u001b[0;32m   1176\u001b[0m         logged_model_url \u001b[38;5;241m=\u001b[39m _construct_databricks_logged_model_url(\n\u001b[0;32m   1177\u001b[0m             workspace_url,\n\u001b[0;32m   1178\u001b[0m             model\u001b[38;5;241m.\u001b[39mexperiment_id,\n\u001b[0;32m   1179\u001b[0m             model\u001b[38;5;241m.\u001b[39mmodel_id,\n\u001b[0;32m   1180\u001b[0m             get_workspace_id(),\n\u001b[0;32m   1181\u001b[0m         )\n",
      "File \u001b[1;32mc:\\Users\\FJ01\\anaconda3\\Lib\\site-packages\\mlflow\\tracking\\fluent.py:2130\u001b[0m, in \u001b[0;36minitialize_logged_model\u001b[1;34m(name, source_run_id, tags, params, model_type, experiment_id)\u001b[0m\n\u001b[0;32m   2104\u001b[0m \u001b[38;5;129m@experimental\u001b[39m\n\u001b[0;32m   2105\u001b[0m \u001b[38;5;28;01mdef\u001b[39;00m \u001b[38;5;21minitialize_logged_model\u001b[39m(\n\u001b[0;32m   2106\u001b[0m     name: Optional[\u001b[38;5;28mstr\u001b[39m] \u001b[38;5;241m=\u001b[39m \u001b[38;5;28;01mNone\u001b[39;00m,\n\u001b[1;32m   (...)\u001b[0m\n\u001b[0;32m   2111\u001b[0m     experiment_id: Optional[\u001b[38;5;28mstr\u001b[39m] \u001b[38;5;241m=\u001b[39m \u001b[38;5;28;01mNone\u001b[39;00m,\n\u001b[0;32m   2112\u001b[0m ) \u001b[38;5;241m-\u001b[39m\u001b[38;5;241m>\u001b[39m LoggedModel:\n\u001b[0;32m   2113\u001b[0m \u001b[38;5;250m    \u001b[39m\u001b[38;5;124;03m\"\"\"\u001b[39;00m\n\u001b[0;32m   2114\u001b[0m \u001b[38;5;124;03m    Initialize a LoggedModel. Creates a LoggedModel with status ``PENDING`` and no artifacts. You\u001b[39;00m\n\u001b[0;32m   2115\u001b[0m \u001b[38;5;124;03m    must add artifacts to the model and finalize it to the ``READY`` state, for example by calling\u001b[39;00m\n\u001b[1;32m   (...)\u001b[0m\n\u001b[0;32m   2128\u001b[0m \u001b[38;5;124;03m        A new :py:class:`mlflow.entities.LoggedModel` object with status ``PENDING``.\u001b[39;00m\n\u001b[0;32m   2129\u001b[0m \u001b[38;5;124;03m    \"\"\"\u001b[39;00m\n\u001b[1;32m-> 2130\u001b[0m     model \u001b[38;5;241m=\u001b[39m _create_logged_model(\n\u001b[0;32m   2131\u001b[0m         name\u001b[38;5;241m=\u001b[39mname,\n\u001b[0;32m   2132\u001b[0m         source_run_id\u001b[38;5;241m=\u001b[39msource_run_id,\n\u001b[0;32m   2133\u001b[0m         tags\u001b[38;5;241m=\u001b[39mtags,\n\u001b[0;32m   2134\u001b[0m         params\u001b[38;5;241m=\u001b[39mparams,\n\u001b[0;32m   2135\u001b[0m         model_type\u001b[38;5;241m=\u001b[39mmodel_type,\n\u001b[0;32m   2136\u001b[0m         experiment_id\u001b[38;5;241m=\u001b[39mexperiment_id,\n\u001b[0;32m   2137\u001b[0m     )\n\u001b[0;32m   2138\u001b[0m     _last_logged_model_id\u001b[38;5;241m.\u001b[39mset(model\u001b[38;5;241m.\u001b[39mmodel_id)\n\u001b[0;32m   2139\u001b[0m     \u001b[38;5;28;01mreturn\u001b[39;00m model\n",
      "File \u001b[1;32mc:\\Users\\FJ01\\anaconda3\\Lib\\site-packages\\mlflow\\tracking\\fluent.py:2257\u001b[0m, in \u001b[0;36m_create_logged_model\u001b[1;34m(name, source_run_id, tags, params, model_type, experiment_id)\u001b[0m\n\u001b[0;32m   2253\u001b[0m     experiment_id \u001b[38;5;241m=\u001b[39m _get_experiment_id() \u001b[38;5;129;01mor\u001b[39;00m (\n\u001b[0;32m   2254\u001b[0m         get_run(source_run_id)\u001b[38;5;241m.\u001b[39minfo\u001b[38;5;241m.\u001b[39mexperiment_id \u001b[38;5;28;01mif\u001b[39;00m source_run_id \u001b[38;5;28;01melse\u001b[39;00m \u001b[38;5;28;01mNone\u001b[39;00m\n\u001b[0;32m   2255\u001b[0m     )\n\u001b[0;32m   2256\u001b[0m resolved_tags \u001b[38;5;241m=\u001b[39m context_registry\u001b[38;5;241m.\u001b[39mresolve_tags(tags)\n\u001b[1;32m-> 2257\u001b[0m \u001b[38;5;28;01mreturn\u001b[39;00m MlflowClient()\u001b[38;5;241m.\u001b[39mcreate_logged_model(\n\u001b[0;32m   2258\u001b[0m     experiment_id\u001b[38;5;241m=\u001b[39mexperiment_id,\n\u001b[0;32m   2259\u001b[0m     name\u001b[38;5;241m=\u001b[39mname,\n\u001b[0;32m   2260\u001b[0m     source_run_id\u001b[38;5;241m=\u001b[39msource_run_id,\n\u001b[0;32m   2261\u001b[0m     tags\u001b[38;5;241m=\u001b[39mresolved_tags,\n\u001b[0;32m   2262\u001b[0m     params\u001b[38;5;241m=\u001b[39mparams,\n\u001b[0;32m   2263\u001b[0m     model_type\u001b[38;5;241m=\u001b[39mmodel_type,\n\u001b[0;32m   2264\u001b[0m )\n",
      "File \u001b[1;32mc:\\Users\\FJ01\\anaconda3\\Lib\\site-packages\\mlflow\\tracking\\client.py:5371\u001b[0m, in \u001b[0;36mMlflowClient.create_logged_model\u001b[1;34m(self, experiment_id, name, source_run_id, tags, params, model_type)\u001b[0m\n\u001b[0;32m   5344\u001b[0m \u001b[38;5;129m@experimental\u001b[39m\n\u001b[0;32m   5345\u001b[0m \u001b[38;5;28;01mdef\u001b[39;00m \u001b[38;5;21mcreate_logged_model\u001b[39m(\n\u001b[0;32m   5346\u001b[0m     \u001b[38;5;28mself\u001b[39m,\n\u001b[1;32m   (...)\u001b[0m\n\u001b[0;32m   5352\u001b[0m     model_type: Optional[\u001b[38;5;28mstr\u001b[39m] \u001b[38;5;241m=\u001b[39m \u001b[38;5;28;01mNone\u001b[39;00m,\n\u001b[0;32m   5353\u001b[0m ) \u001b[38;5;241m-\u001b[39m\u001b[38;5;241m>\u001b[39m LoggedModel:\n\u001b[0;32m   5354\u001b[0m \u001b[38;5;250m    \u001b[39m\u001b[38;5;124;03m\"\"\"\u001b[39;00m\n\u001b[0;32m   5355\u001b[0m \u001b[38;5;124;03m    Create a new logged model.\u001b[39;00m\n\u001b[0;32m   5356\u001b[0m \n\u001b[1;32m   (...)\u001b[0m\n\u001b[0;32m   5369\u001b[0m \u001b[38;5;124;03m        The created model.\u001b[39;00m\n\u001b[0;32m   5370\u001b[0m \u001b[38;5;124;03m    \"\"\"\u001b[39;00m\n\u001b[1;32m-> 5371\u001b[0m     \u001b[38;5;28;01mreturn\u001b[39;00m \u001b[38;5;28mself\u001b[39m\u001b[38;5;241m.\u001b[39m_tracking_client\u001b[38;5;241m.\u001b[39mcreate_logged_model(\n\u001b[0;32m   5372\u001b[0m         experiment_id, name, source_run_id, tags, params, model_type\n\u001b[0;32m   5373\u001b[0m     )\n",
      "File \u001b[1;32mc:\\Users\\FJ01\\anaconda3\\Lib\\site-packages\\mlflow\\tracking\\_tracking_service\\client.py:824\u001b[0m, in \u001b[0;36mTrackingServiceClient.create_logged_model\u001b[1;34m(self, experiment_id, name, source_run_id, tags, params, model_type)\u001b[0m\n\u001b[0;32m    815\u001b[0m \u001b[38;5;28;01mdef\u001b[39;00m \u001b[38;5;21mcreate_logged_model\u001b[39m(\n\u001b[0;32m    816\u001b[0m     \u001b[38;5;28mself\u001b[39m,\n\u001b[0;32m    817\u001b[0m     experiment_id: \u001b[38;5;28mstr\u001b[39m,\n\u001b[1;32m   (...)\u001b[0m\n\u001b[0;32m    822\u001b[0m     model_type: Optional[\u001b[38;5;28mstr\u001b[39m] \u001b[38;5;241m=\u001b[39m \u001b[38;5;28;01mNone\u001b[39;00m,\n\u001b[0;32m    823\u001b[0m ) \u001b[38;5;241m-\u001b[39m\u001b[38;5;241m>\u001b[39m LoggedModel:\n\u001b[1;32m--> 824\u001b[0m     \u001b[38;5;28;01mreturn\u001b[39;00m \u001b[38;5;28mself\u001b[39m\u001b[38;5;241m.\u001b[39mstore\u001b[38;5;241m.\u001b[39mcreate_logged_model(\n\u001b[0;32m    825\u001b[0m         experiment_id\u001b[38;5;241m=\u001b[39mexperiment_id,\n\u001b[0;32m    826\u001b[0m         name\u001b[38;5;241m=\u001b[39mname,\n\u001b[0;32m    827\u001b[0m         source_run_id\u001b[38;5;241m=\u001b[39msource_run_id,\n\u001b[0;32m    828\u001b[0m         tags\u001b[38;5;241m=\u001b[39m[LoggedModelTag(\u001b[38;5;28mstr\u001b[39m(key), \u001b[38;5;28mstr\u001b[39m(value)) \u001b[38;5;28;01mfor\u001b[39;00m key, value \u001b[38;5;129;01min\u001b[39;00m tags\u001b[38;5;241m.\u001b[39mitems()]\n\u001b[0;32m    829\u001b[0m         \u001b[38;5;28;01mif\u001b[39;00m tags \u001b[38;5;129;01mis\u001b[39;00m \u001b[38;5;129;01mnot\u001b[39;00m \u001b[38;5;28;01mNone\u001b[39;00m\n\u001b[0;32m    830\u001b[0m         \u001b[38;5;28;01melse\u001b[39;00m tags,\n\u001b[0;32m    831\u001b[0m         params\u001b[38;5;241m=\u001b[39m[LoggedModelParameter(\u001b[38;5;28mstr\u001b[39m(key), \u001b[38;5;28mstr\u001b[39m(value)) \u001b[38;5;28;01mfor\u001b[39;00m key, value \u001b[38;5;129;01min\u001b[39;00m params\u001b[38;5;241m.\u001b[39mitems()]\n\u001b[0;32m    832\u001b[0m         \u001b[38;5;28;01mif\u001b[39;00m params \u001b[38;5;129;01mis\u001b[39;00m \u001b[38;5;129;01mnot\u001b[39;00m \u001b[38;5;28;01mNone\u001b[39;00m\n\u001b[0;32m    833\u001b[0m         \u001b[38;5;28;01melse\u001b[39;00m params,\n\u001b[0;32m    834\u001b[0m         model_type\u001b[38;5;241m=\u001b[39mmodel_type,\n\u001b[0;32m    835\u001b[0m     )\n",
      "File \u001b[1;32mc:\\Users\\FJ01\\anaconda3\\Lib\\site-packages\\mlflow\\store\\tracking\\rest_store.py:936\u001b[0m, in \u001b[0;36mRestStore.create_logged_model\u001b[1;34m(self, experiment_id, name, source_run_id, tags, params, model_type)\u001b[0m\n\u001b[0;32m    923\u001b[0m     remaining_params \u001b[38;5;241m=\u001b[39m params[initial_batch_size:]\n\u001b[0;32m    925\u001b[0m req_body \u001b[38;5;241m=\u001b[39m message_to_json(\n\u001b[0;32m    926\u001b[0m     CreateLoggedModel(\n\u001b[0;32m    927\u001b[0m         experiment_id\u001b[38;5;241m=\u001b[39mexperiment_id,\n\u001b[1;32m   (...)\u001b[0m\n\u001b[0;32m    933\u001b[0m     )\n\u001b[0;32m    934\u001b[0m )\n\u001b[1;32m--> 936\u001b[0m response_proto \u001b[38;5;241m=\u001b[39m \u001b[38;5;28mself\u001b[39m\u001b[38;5;241m.\u001b[39m_call_endpoint(CreateLoggedModel, req_body)\n\u001b[0;32m    937\u001b[0m model \u001b[38;5;241m=\u001b[39m LoggedModel\u001b[38;5;241m.\u001b[39mfrom_proto(response_proto\u001b[38;5;241m.\u001b[39mmodel)\n\u001b[0;32m    939\u001b[0m \u001b[38;5;66;03m# Log remaining params if there are any\u001b[39;00m\n",
      "File \u001b[1;32mc:\\Users\\FJ01\\anaconda3\\Lib\\site-packages\\mlflow\\store\\tracking\\rest_store.py:135\u001b[0m, in \u001b[0;36mRestStore._call_endpoint\u001b[1;34m(self, api, json_body, endpoint, retry_timeout_seconds)\u001b[0m\n\u001b[0;32m    133\u001b[0m     endpoint, method \u001b[38;5;241m=\u001b[39m _METHOD_TO_INFO[api]\n\u001b[0;32m    134\u001b[0m response_proto \u001b[38;5;241m=\u001b[39m api\u001b[38;5;241m.\u001b[39mResponse()\n\u001b[1;32m--> 135\u001b[0m \u001b[38;5;28;01mreturn\u001b[39;00m call_endpoint(\n\u001b[0;32m    136\u001b[0m     \u001b[38;5;28mself\u001b[39m\u001b[38;5;241m.\u001b[39mget_host_creds(),\n\u001b[0;32m    137\u001b[0m     endpoint,\n\u001b[0;32m    138\u001b[0m     method,\n\u001b[0;32m    139\u001b[0m     json_body,\n\u001b[0;32m    140\u001b[0m     response_proto,\n\u001b[0;32m    141\u001b[0m     retry_timeout_seconds\u001b[38;5;241m=\u001b[39mretry_timeout_seconds,\n\u001b[0;32m    142\u001b[0m )\n",
      "File \u001b[1;32mc:\\Users\\FJ01\\anaconda3\\Lib\\site-packages\\mlflow\\utils\\rest_utils.py:590\u001b[0m, in \u001b[0;36mcall_endpoint\u001b[1;34m(host_creds, endpoint, method, json_body, response_proto, extra_headers, retry_timeout_seconds)\u001b[0m\n\u001b[0;32m    587\u001b[0m     call_kwargs[\u001b[38;5;124m\"\u001b[39m\u001b[38;5;124mjson\u001b[39m\u001b[38;5;124m\"\u001b[39m] \u001b[38;5;241m=\u001b[39m json_body\n\u001b[0;32m    588\u001b[0m     response \u001b[38;5;241m=\u001b[39m http_request(\u001b[38;5;241m*\u001b[39m\u001b[38;5;241m*\u001b[39mcall_kwargs)\n\u001b[1;32m--> 590\u001b[0m response \u001b[38;5;241m=\u001b[39m verify_rest_response(response, endpoint)\n\u001b[0;32m    591\u001b[0m response_to_parse \u001b[38;5;241m=\u001b[39m response\u001b[38;5;241m.\u001b[39mtext\n\u001b[0;32m    592\u001b[0m \u001b[38;5;28;01mtry\u001b[39;00m:\n",
      "File \u001b[1;32mc:\\Users\\FJ01\\anaconda3\\Lib\\site-packages\\mlflow\\utils\\rest_utils.py:304\u001b[0m, in \u001b[0;36mverify_rest_response\u001b[1;34m(response, endpoint)\u001b[0m\n\u001b[0;32m    302\u001b[0m \u001b[38;5;28;01mif\u001b[39;00m response\u001b[38;5;241m.\u001b[39mstatus_code \u001b[38;5;241m!=\u001b[39m \u001b[38;5;241m200\u001b[39m:\n\u001b[0;32m    303\u001b[0m     \u001b[38;5;28;01mif\u001b[39;00m _can_parse_as_json_object(response\u001b[38;5;241m.\u001b[39mtext):\n\u001b[1;32m--> 304\u001b[0m         \u001b[38;5;28;01mraise\u001b[39;00m RestException(json\u001b[38;5;241m.\u001b[39mloads(response\u001b[38;5;241m.\u001b[39mtext))\n\u001b[0;32m    305\u001b[0m     \u001b[38;5;28;01melse\u001b[39;00m:\n\u001b[0;32m    306\u001b[0m         base_msg \u001b[38;5;241m=\u001b[39m (\n\u001b[0;32m    307\u001b[0m             \u001b[38;5;124mf\u001b[39m\u001b[38;5;124m\"\u001b[39m\u001b[38;5;124mAPI request to endpoint \u001b[39m\u001b[38;5;132;01m{\u001b[39;00mendpoint\u001b[38;5;132;01m}\u001b[39;00m\u001b[38;5;124m \u001b[39m\u001b[38;5;124m\"\u001b[39m\n\u001b[0;32m    308\u001b[0m             \u001b[38;5;124mf\u001b[39m\u001b[38;5;124m\"\u001b[39m\u001b[38;5;124mfailed with error code \u001b[39m\u001b[38;5;132;01m{\u001b[39;00mresponse\u001b[38;5;241m.\u001b[39mstatus_code\u001b[38;5;132;01m}\u001b[39;00m\u001b[38;5;124m != 200\u001b[39m\u001b[38;5;124m\"\u001b[39m\n\u001b[0;32m    309\u001b[0m         )\n",
      "\u001b[1;31mRestException\u001b[0m: INTERNAL_ERROR: Response: {'error': 'unsupported endpoint, please contact support@dagshub.com'}"
     ]
    }
   ],
   "source": [
    "import os\n",
    "os.environ['MLFLOW_TRACKING_USERNAME'] = 'jerremiahwilly'\n",
    "os.environ['MLFLOW_TRACKING_PASSWORD'] = '6bf1a4070c641409d85a62e55a66ae963eaaf4d5'\n",
    "os.environ['MLFLOW_TRACKING_URI'] = 'https://dagshub.com/jerremiahwilly/Medical-Insurance.mlflow'\n",
    "\n",
    "mlflow.set_tracking_uri(os.environ[\"MLFLOW_TRACKING_URI\"])\n",
    "\n",
    "mlflow.set_experiment('Medical Insurance1')  # The name of the Project\n",
    "# mlflow.set_tracking_uri('http://127.0.0.1:5000')\n",
    "\n",
    "\n",
    "for model_report in reports:\n",
    "    with mlflow.start_run(run_name=model_report['model_name']):\n",
    "\n",
    "        mlflow.set_tag(\"model_name\", model_report[\"model_name\"]) # adds metadata tages to model \n",
    "        \n",
    "        for p, v in model_report[\"params\"].items():\n",
    "            mlflow.log_param(p, v) # saves the hyperparameters used\n",
    "\n",
    "        for m, v in model_report[\"metrics\"].items():\n",
    "            mlflow.log_metric(m, v) #save the metrics\n",
    "\n",
    "        mlflow.log_param('Model name', model_report['model_name']) # a good pratice, usefull when trying to compare \n",
    "\n",
    "\n",
    "\n",
    "        mlflow.sklearn.log_model(\n",
    "        sk_model=model_report['model'],\n",
    "        name= model_report['model_name'],\n",
    "        input_example=X_train,\n",
    "        registered_model_name= f\"sk-learn-{name}-reg-model\",\n",
    "    )\n",
    "\n",
    "        # # Save with joblib (often better for sklearn models)\n",
    "        # model_path = \"model.joblib\"\n",
    "        # joblib.dump(model_report['model'], model_path)\n",
    "\n",
    "        # # Log as artifact\n",
    "        # mlflow.log_artifact(model_path, \"model\")\n",
    "\n",
    "        # mlflow.sklearn.log_model(model_report['model']) #saves the model "
   ]
  },
  {
   "cell_type": "code",
   "execution_count": 47,
   "id": "c0dc7e25",
   "metadata": {},
   "outputs": [
    {
     "name": "stderr",
     "output_type": "stream",
     "text": [
      "Successfully registered model 'RandomForest Model'.\n",
      "2025/08/01 08:49:32 INFO mlflow.store.model_registry.abstract_store: Waiting up to 300 seconds for model version to finish creation. Model name: RandomForest Model, version 1\n",
      "Created version '1' of model 'RandomForest Model'.\n"
     ]
    }
   ],
   "source": [
    "# Registering the model for model versioning \n",
    "model_name = 'RandomForest Model'\n",
    "run_id = input('Enter Run ID')\n",
    "\n",
    "model_uri = f'run:/{run_id}/{model_name}'\n",
    "\n",
    "result = mlflow.register_model(model_uri, model_name)  # my prefered choice based on the metrics "
   ]
  },
  {
   "cell_type": "code",
   "execution_count": null,
   "id": "aa40c7f3",
   "metadata": {},
   "outputs": [],
   "source": [
    "import mlflow.sklearn\n",
    "\n",
    "model_name = \"RandomForest Model\"\n",
    "model_version = 'latest'\n",
    "\n",
    "load_uri = f\"models:/{model_name}/{model_version}\"\n",
    "\n",
    "# loaded_model = mlflow.sklearn.load_model(load_uri)\n",
    "loaded_ml = mlflow.sklearn.load_model(load_uri)\n"
   ]
  },
  {
   "cell_type": "code",
   "execution_count": null,
   "id": "3109c101",
   "metadata": {},
   "outputs": [],
   "source": [
    "joblib.dump(loaded_ml, 'Best_model.joblib')"
   ]
  },
  {
   "cell_type": "code",
   "execution_count": 50,
   "id": "0493acaf",
   "metadata": {},
   "outputs": [
    {
     "data": {
      "text/plain": [
       "[<FileInfo: file_size=None, is_dir=True, path='model'>]"
      ]
     },
     "execution_count": 50,
     "metadata": {},
     "output_type": "execute_result"
    }
   ],
   "source": [
    "from mlflow.tracking import MlflowClient\n",
    "\n",
    "client = MlflowClient()\n",
    "client.list_artifacts(run_id)\n"
   ]
  },
  {
   "cell_type": "markdown",
   "id": "4637d91f",
   "metadata": {},
   "source": [
    "### Comparing the bes to the baseline model"
   ]
  },
  {
   "cell_type": "code",
   "execution_count": null,
   "id": "8c00b95b",
   "metadata": {},
   "outputs": [],
   "source": []
  }
 ],
 "metadata": {
  "kernelspec": {
   "display_name": "Python 3",
   "language": "python",
   "name": "python3"
  },
  "language_info": {
   "codemirror_mode": {
    "name": "ipython",
    "version": 3
   },
   "file_extension": ".py",
   "mimetype": "text/x-python",
   "name": "python",
   "nbconvert_exporter": "python",
   "pygments_lexer": "ipython3",
   "version": "3.12.4"
  }
 },
 "nbformat": 4,
 "nbformat_minor": 5
}
